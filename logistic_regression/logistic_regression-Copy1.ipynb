{
 "cells": [
  {
   "cell_type": "code",
   "execution_count": 4,
   "metadata": {
    "collapsed": true
   },
   "outputs": [],
   "source": [
    "import numpy as np"
   ]
  },
  {
   "cell_type": "code",
   "execution_count": 5,
   "metadata": {
    "collapsed": false
   },
   "outputs": [],
   "source": [
    "pima = np.genfromtxt('pima-indians-diabetes.data', delimiter=',')"
   ]
  },
  {
   "cell_type": "code",
   "execution_count": 29,
   "metadata": {
    "collapsed": true
   },
   "outputs": [],
   "source": [
    "def sghmc(Y, X, stogradU, M, eps, m, theta, C, V):\n",
    "    n = X.shape[0]\n",
    "    p = X.shape[1]\n",
    "    \n",
    "    # Randomly sample momentum\n",
    "    r = np.random.multivariate_normal(np.zeros(M.shape[0]),M)[:,np.newaxis]\n",
    "    \n",
    "    # Precompute\n",
    "    B = 0.5 * V * eps\n",
    "    D = 2*(C-B)*eps\n",
    "    Minv = np.linalg.inv(M)\n",
    "    \n",
    "    # Hamiltonian dynamics\n",
    "    for i in range(m):\n",
    "        theta = theta + (eps*np.linalg.inv(M) @ r).ravel()\n",
    "        r = r - eps*stogradU(theta, Y, X, nbatch) - eps*C @ Minv @ r \\\n",
    "            + np.random.multivariate_normal(np.zeros(M.shape[0]),D)[:,np.newaxis]\n",
    "\n",
    "    return(theta)"
   ]
  },
  {
   "cell_type": "code",
   "execution_count": 49,
   "metadata": {
    "collapsed": true
   },
   "outputs": [],
   "source": [
    "def logistic(x):\n",
    "    return 1/(1+np.exp(-x))\n",
    "\n",
    "def stogradU(theta, Y, X, nbatch):\n",
    "    '''A function that returns the stochastic gradient. Adapted from Eq. 5.\n",
    "    Inputs are:\n",
    "        theta, the parameters\n",
    "        Y, the response\n",
    "        X, the covariates\n",
    "        nbatch, the number of samples to take from the full data\n",
    "    '''\n",
    "    alpha=5\n",
    "    n = X.shape[0]\n",
    "    batch_id = np.random.choice(np.arange(n),nbatch,replace=False)\n",
    "    \n",
    "    Y_pred = logistic(X[batch_id,:] @ theta[:,np.newaxis])\n",
    "    epsilon = (Y[batch_id][:,np.newaxis] - Y_pred)\n",
    "    \n",
    "    grad = -n/nbatch * X[batch_id,:].T @ epsilon - theta[:,np.newaxis]/alpha\n",
    "    \n",
    "    return grad"
   ]
  },
  {
   "cell_type": "code",
   "execution_count": 58,
   "metadata": {
    "collapsed": false
   },
   "outputs": [],
   "source": [
    "X = np.concatenate((np.ones((pima.shape[0],1)),pima[:,0:8]), axis=1)\n",
    "Y = pima[:,8]\n",
    "\n",
    "Xs = (X - np.mean(X, axis=0))/np.concatenate((np.ones(1),np.std(X[:,1:], axis=0)))\n",
    "n, p = X.shape\n",
    "\n",
    "nsample = 10\n",
    "nbatch = 768\n",
    "M = np.identity(p)\n",
    "C = 0 * np.identity(p)\n",
    "eps = 0.1\n",
    "m = 50\n",
    "V = 0 * np.identity(p)\n",
    "theta = np.zeros(p)"
   ]
  },
  {
   "cell_type": "code",
   "execution_count": 59,
   "metadata": {
    "collapsed": false,
    "scrolled": false
   },
   "outputs": [],
   "source": [
    "np.random.seed(2)\n",
    "\n",
    "# w noise, no mh\n",
    "samples = np.zeros((nsample, p))\n",
    "\n",
    "for i in range(nsample):\n",
    "    theta = sghmc(Y, Xs, stogradU, M, eps, m, theta, C, V)\n",
    "    samples[i] = theta"
   ]
  },
  {
   "cell_type": "code",
   "execution_count": 60,
   "metadata": {
    "collapsed": false
   },
   "outputs": [
    {
     "data": {
      "text/plain": [
       "array([  1.81964807e+06,   3.35098426e-01,   1.16431918e+00,\n",
       "        -3.40326103e-01,   2.16111978e-01,   7.05939592e-02,\n",
       "         5.57263529e-01,   3.30554899e-01,  -7.20119200e-02])"
      ]
     },
     "execution_count": 60,
     "metadata": {},
     "output_type": "execute_result"
    }
   ],
   "source": [
    "theta"
   ]
  },
  {
   "cell_type": "code",
   "execution_count": 23,
   "metadata": {
    "collapsed": false
   },
   "outputs": [
    {
     "data": {
      "text/plain": [
       "array([ 0.,  1.,  1.,  1.,  1.,  1.,  1.,  1.,  1.])"
      ]
     },
     "execution_count": 23,
     "metadata": {},
     "output_type": "execute_result"
    }
   ],
   "source": [
    "np.std(Xs,axis=0)"
   ]
  },
  {
   "cell_type": "code",
   "execution_count": 24,
   "metadata": {
    "collapsed": false
   },
   "outputs": [
    {
     "data": {
      "text/plain": [
       "array([  0.00000000e+00,  -7.74843153e-17,   3.61400724e-18,\n",
       "        -1.32724416e-17,   7.76288755e-17,  -5.49329101e-17,\n",
       "         2.97273780e-15,   1.92438658e-15,   2.19297959e-16])"
      ]
     },
     "execution_count": 24,
     "metadata": {},
     "output_type": "execute_result"
    }
   ],
   "source": [
    "np.mean(Xs,axis=0)"
   ]
  },
  {
   "cell_type": "code",
   "execution_count": null,
   "metadata": {
    "collapsed": true
   },
   "outputs": [],
   "source": []
  }
 ],
 "metadata": {
  "kernelspec": {
   "display_name": "Python 3",
   "language": "python",
   "name": "python3"
  },
  "language_info": {
   "codemirror_mode": {
    "name": "ipython",
    "version": 3
   },
   "file_extension": ".py",
   "mimetype": "text/x-python",
   "name": "python",
   "nbconvert_exporter": "python",
   "pygments_lexer": "ipython3",
   "version": "3.6.0"
  }
 },
 "nbformat": 4,
 "nbformat_minor": 2
}
