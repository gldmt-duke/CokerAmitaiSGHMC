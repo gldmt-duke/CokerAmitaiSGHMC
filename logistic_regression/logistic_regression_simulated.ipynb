{
 "cells": [
  {
   "cell_type": "markdown",
   "metadata": {},
   "source": [
    "Here is the library of functions:"
   ]
  },
  {
   "cell_type": "code",
   "execution_count": 247,
   "metadata": {
    "collapsed": false
   },
   "outputs": [],
   "source": [
    "def logistic(x):\n",
    "    '''\n",
    "    '''\n",
    "    return 1/(1+np.exp(-x))\n",
    "\n",
    "def U_logistic(theta, Y, X, phi):\n",
    "    '''\n",
    "    '''\n",
    "    return - (Y.T @ X @ theta - np.sum(np.log(1+np.exp(X @ theta))) - 0.5 * phi * np.sum(theta**2))\n",
    "\n",
    "def gradU_logistic(theta, Y, X, phi):\n",
    "    '''\n",
    "    '''\n",
    "    n = X.shape[0]\n",
    "    \n",
    "    Y_pred = logistic(X @ theta)\n",
    "    epsilon = (Y[:,np.newaxis] - Y_pred[:,np.newaxis])\n",
    "    grad = X.T @ epsilon - phi * theta[:, np.newaxis]\n",
    "\n",
    "    return -grad/n\n",
    "\n",
    "\n",
    "def hmc(Y, X, U, gradU, M, eps, m, theta0, phi):\n",
    "    '''\n",
    "    '''\n",
    "    theta = theta0.copy()\n",
    "    n, p = X.shape\n",
    "    \n",
    "    # Precompute\n",
    "    Minv = np.linalg.inv(M)\n",
    "    \n",
    "    # Randomly sample momentum\n",
    "    r = np.random.multivariate_normal(np.zeros(p),M)[:,np.newaxis]\n",
    "    \n",
    "    # Intial energy\n",
    "    H0 = U(theta0, Y, X, phi) + 0.5 * np.asscalar(r.T @ Minv @ r)\n",
    "    \n",
    "    # Hamiltonian dynamics\n",
    "    r -= (eps/2)*gradU(theta, Y, X, phi)\n",
    "    for i in range(m):\n",
    "        theta += (eps*Minv@r).ravel()\n",
    "        r -= eps*gradU(theta, Y, X, phi)\n",
    "    r -= (eps/2)*gradU(theta, Y, X, phi)\n",
    "    \n",
    "    # Final energy\n",
    "    H1 = U(theta, Y, X, phi) + np.asscalar(0.5 * r.T @ Minv @ r)\n",
    "    \n",
    "    # MH step\n",
    "    u = np.random.uniform()\n",
    "    rho = np.exp(H0 - H1) # Acceptance probability\n",
    "    \n",
    "    if u < np.min((1, rho)):\n",
    "        # accept\n",
    "        accept = True\n",
    "        H = H1\n",
    "    else:\n",
    "        # reject\n",
    "        theta = theta0\n",
    "        accept = False\n",
    "        H = H0\n",
    "\n",
    "    return theta, accept, rho, H\n",
    "\n",
    "\n",
    "def run_hmc(Y, X, U, gradU, M, eps, m, theta, phi, nsample):\n",
    "\n",
    "    n, p = X.shape\n",
    "    \n",
    "    # Allocate space\n",
    "    samples = np.zeros((nsample, p))\n",
    "    accept = np.zeros(nsample)\n",
    "    rho = np.zeros(nsample)\n",
    "    H = np.zeros(nsample)\n",
    "    \n",
    "    # Run hmc\n",
    "    for i in range(nsample):\n",
    "        theta, accept[i], rho[i], H[i] = hmc(Y, X, U, gradU, M, eps, m, theta, phi)\n",
    "        samples[i] = theta\n",
    "        \n",
    "    return samples, accept, rho, H  \n",
    "\n",
    "def stogradU(theta, Y, X, nbatch, phi):\n",
    "    '''A function that returns the stochastic gradient. Adapted from Eq. 5.\n",
    "    Inputs are:\n",
    "        theta, the parameters\n",
    "        Y, the response\n",
    "        X, the covariates\n",
    "        nbatch, the number of samples to take from the full data\n",
    "    '''\n",
    "    n, p = X.shape\n",
    "    \n",
    "    # Sample minibatch\n",
    "    batch_id = np.random.choice(np.arange(n),nbatch,replace=False)\n",
    "    \n",
    "    Y_pred = logistic(X[batch_id,:] @ theta[:,np.newaxis])\n",
    "    epsilon = (Y[batch_id,np.newaxis] - Y_pred)\n",
    "    grad = n/nbatch * X[batch_id,:].T @ epsilon - phi * theta[:, np.newaxis]\n",
    "\n",
    "    #return -grad/n\n",
    "    return -grad\n",
    "\n",
    "def sghmc(Y, X, U, gradU, M, Minv, eps, m, theta, B, D, phi):\n",
    "    \n",
    "    n, p = X.shape\n",
    "    \n",
    "    # Randomly sample momentum\n",
    "    r = np.random.multivariate_normal(np.zeros(p),M)[:,np.newaxis]\n",
    "    \n",
    "    # Hamiltonian dynamics\n",
    "    for i in range(m):        \n",
    "        theta += (eps*Minv@r).ravel()\n",
    "        r -= eps*stogradU(theta, Y, X, nbatch,phi) - eps*C @ Minv @ r \\\n",
    "            + np.random.multivariate_normal(np.zeros(p),D)[:,np.newaxis] \n",
    "    \n",
    "    # Record the energy\n",
    "    H = U(theta, Y, X, phi) + np.asscalar(0.5 * r.T @ Minv @ r)\n",
    "    \n",
    "    return theta, H\n",
    "\n",
    "def run_sghmc(Y, X, U, gradU, M, eps, m, theta, C, V, phi, nsample):\n",
    "    n, p = X.shape\n",
    "    \n",
    "    # Precompute\n",
    "    Minv = np.linalg.inv(M)\n",
    "    B = 0.5 * V * eps\n",
    "    D = 2*(C-B)*eps\n",
    "    \n",
    "    # Allocate space\n",
    "    samples = np.zeros((nsample, p))\n",
    "    H = np.zeros(nsample)\n",
    "    \n",
    "    # Run sghmc\n",
    "    for i in range(nsample):\n",
    "        theta, H[i] = sghmc(Y, X, U, gradU, M, Minv, eps, m, theta, B, D, phi)\n",
    "        samples[i] = theta\n",
    "        \n",
    "    return samples, H\n",
    "    \n",
    "    \n",
    "def gd(Y, X, gradU, eps, m, theta, phi):\n",
    "    '''\n",
    "    '''\n",
    "    samples = np.zeros((nsample, p))\n",
    "    \n",
    "    for i in range(m):\n",
    "        theta -= eps*gradU(theta, Y, X, phi).ravel()\n",
    "      \n",
    "    return theta     "
   ]
  },
  {
   "cell_type": "markdown",
   "metadata": {},
   "source": [
    "Everything after here is the script that runs the simulation:"
   ]
  },
  {
   "cell_type": "code",
   "execution_count": 18,
   "metadata": {
    "collapsed": true
   },
   "outputs": [],
   "source": [
    "import numpy as np\n",
    "import matplotlib.pyplot as plt"
   ]
  },
  {
   "cell_type": "code",
   "execution_count": 19,
   "metadata": {
    "collapsed": true
   },
   "outputs": [],
   "source": [
    "pima = np.genfromtxt('pima-indians-diabetes.data', delimiter=',')"
   ]
  },
  {
   "cell_type": "code",
   "execution_count": 109,
   "metadata": {
    "collapsed": false
   },
   "outputs": [],
   "source": [
    "# Load data\n",
    "X = np.concatenate((np.ones((pima.shape[0],1)),pima[:,0:8]), axis=1)\n",
    "Y = pima[:,8]\n",
    "\n",
    "Xs = (X - np.mean(X, axis=0))/np.concatenate((np.ones(1),np.std(X[:,1:], axis=0)))\n",
    "Xs = Xs[:,1:]\n",
    "\n",
    "n, p = Xs.shape"
   ]
  },
  {
   "cell_type": "code",
   "execution_count": null,
   "metadata": {
    "collapsed": true
   },
   "outputs": [],
   "source": []
  },
  {
   "cell_type": "code",
   "execution_count": null,
   "metadata": {
    "collapsed": true
   },
   "outputs": [],
   "source": []
  },
  {
   "cell_type": "code",
   "execution_count": null,
   "metadata": {
    "collapsed": true
   },
   "outputs": [],
   "source": []
  },
  {
   "cell_type": "code",
   "execution_count": null,
   "metadata": {
    "collapsed": true
   },
   "outputs": [],
   "source": []
  },
  {
   "cell_type": "markdown",
   "metadata": {},
   "source": [
    "### Regression"
   ]
  },
  {
   "cell_type": "code",
   "execution_count": 8,
   "metadata": {
    "collapsed": true
   },
   "outputs": [],
   "source": [
    "from sklearn.linear_model import LogisticRegression"
   ]
  },
  {
   "cell_type": "code",
   "execution_count": 122,
   "metadata": {
    "collapsed": false
   },
   "outputs": [
    {
     "data": {
      "text/plain": [
       "array([ -8.31498612e+00,   1.22560027e-01,   3.49183220e-02,\n",
       "        -1.34118967e-02,   6.28219471e-04,  -1.17179659e-03,\n",
       "         8.86606033e-02,   9.30419443e-01,   1.46781178e-02])"
      ]
     },
     "execution_count": 122,
     "metadata": {},
     "output_type": "execute_result"
    }
   ],
   "source": [
    "# Unscaled\n",
    "mod_logis = LogisticRegression(fit_intercept=False, C=1e50)\n",
    "mod_logis.fit(X,Y)\n",
    "beta_true_unscale = mod_logis.coef_.ravel()\n",
    "beta_true_unscale"
   ]
  },
  {
   "cell_type": "code",
   "execution_count": 121,
   "metadata": {
    "collapsed": false
   },
   "outputs": [
    {
     "data": {
      "text/plain": [
       "array([ 0.39024907,  1.08791914, -0.24544979,  0.02250608, -0.1621995 ,\n",
       "        0.59035938,  0.32483104,  0.12120845])"
      ]
     },
     "execution_count": 121,
     "metadata": {},
     "output_type": "execute_result"
    }
   ],
   "source": [
    "# Scaled\n",
    "mod_logis = LogisticRegression(fit_intercept=False, C=1e50)\n",
    "mod_logis.fit(Xs,Y)\n",
    "beta_true_scale = mod_logis.coef_.ravel()\n",
    "beta_true_scale"
   ]
  },
  {
   "cell_type": "code",
   "execution_count": null,
   "metadata": {
    "collapsed": true
   },
   "outputs": [],
   "source": []
  },
  {
   "cell_type": "code",
   "execution_count": null,
   "metadata": {
    "collapsed": true
   },
   "outputs": [],
   "source": []
  },
  {
   "cell_type": "code",
   "execution_count": null,
   "metadata": {
    "collapsed": true
   },
   "outputs": [],
   "source": []
  },
  {
   "cell_type": "code",
   "execution_count": null,
   "metadata": {
    "collapsed": false
   },
   "outputs": [],
   "source": []
  },
  {
   "cell_type": "markdown",
   "metadata": {
    "collapsed": false
   },
   "source": [
    "### HMC"
   ]
  },
  {
   "cell_type": "code",
   "execution_count": 241,
   "metadata": {
    "collapsed": false
   },
   "outputs": [
    {
     "data": {
      "text/plain": [
       "array([-0.05995687, -0.21366711,  0.04524021, -0.02121641,  0.1368824 ,\n",
       "       -0.06980019, -0.06679099,  0.05151616])"
      ]
     },
     "execution_count": 241,
     "metadata": {},
     "output_type": "execute_result"
    }
   ],
   "source": [
    "# HMC - Scaled\n",
    "nsample = 1000\n",
    "m = 20\n",
    "eps = .001\n",
    "theta = np.zeros(p)\n",
    "#theta = beta_true_unscale.copy()\n",
    "phi = 5\n",
    "M = np.identity(p)\n",
    "\n",
    "samples, accept, rho, H = run_hmc(Y, Xs, U_logistic, gradU_logistic, M, eps, m, theta, phi, nsample)\n",
    "\n",
    "np.mean(samples, axis=0) - beta_true_scale"
   ]
  },
  {
   "cell_type": "code",
   "execution_count": 242,
   "metadata": {
    "collapsed": false
   },
   "outputs": [
    {
     "data": {
      "image/png": "[encoded data removed]",
      "text/plain": [
       "<matplotlib.figure.Figure at 0x112419588>"
      ]
     },
     "metadata": {},
     "output_type": "display_data"
    }
   ],
   "source": [
    "plt.plot((samples - beta_true_scale)[:,3])\n",
    "plt.show()"
   ]
  },
  {
   "cell_type": "code",
   "execution_count": 232,
   "metadata": {
    "collapsed": false
   },
   "outputs": [
    {
     "data": {
      "image/png": "[encoded data removed]",
      "text/plain": [
       "<matplotlib.figure.Figure at 0x1121a93c8>"
      ]
     },
     "metadata": {},
     "output_type": "display_data"
    }
   ],
   "source": [
    "plt.plot(H)\n",
    "plt.show()"
   ]
  },
  {
   "cell_type": "markdown",
   "metadata": {},
   "source": [
    "### SGHMC"
   ]
  },
  {
   "cell_type": "code",
   "execution_count": 248,
   "metadata": {
    "collapsed": false
   },
   "outputs": [
    {
     "data": {
      "text/plain": [
       "array([-0.0391003 , -0.0805079 ,  0.03363423, -0.03836265,  0.0528513 ,\n",
       "       -0.01430956, -0.0118171 ,  0.00262314])"
      ]
     },
     "execution_count": 248,
     "metadata": {},
     "output_type": "execute_result"
    }
   ],
   "source": [
    "# HMC - Scaled (no intercept)\n",
    "nsample = 1000\n",
    "m = 20\n",
    "eps = .002\n",
    "theta = np.zeros(p)\n",
    "#theta = beta_true_scale.copy()\n",
    "phi = 5\n",
    "nbatch = 500\n",
    "C = 1 * np.identity(p)\n",
    "V = 0 * np.identity(p)\n",
    "M = np.identity(p)\n",
    "\n",
    "samples, H = run_sghmc(Y, Xs, U_logistic, gradU_logistic, M, eps, m, theta, C, V, phi, nsample)\n",
    "\n",
    "np.mean(samples, axis=0) - beta_true_scale"
   ]
  },
  {
   "cell_type": "code",
   "execution_count": 244,
   "metadata": {
    "collapsed": false
   },
   "outputs": [
    {
     "data": {
      "image/png": "[encoded data removed]",
      "text/plain": [
       "<matplotlib.figure.Figure at 0x1120869b0>"
      ]
     },
     "metadata": {},
     "output_type": "display_data"
    }
   ],
   "source": [
    "plt.plot((samples - beta_true_scale)[:,0])\n",
    "plt.show()"
   ]
  },
  {
   "cell_type": "code",
   "execution_count": 228,
   "metadata": {
    "collapsed": false
   },
   "outputs": [
    {
     "data": {
      "image/png": "[encoded data removed]",
      "text/plain": [
       "<matplotlib.figure.Figure at 0x112b13940>"
      ]
     },
     "metadata": {},
     "output_type": "display_data"
    }
   ],
   "source": [
    "plt.plot(H)\n",
    "plt.show()"
   ]
  },
  {
   "cell_type": "markdown",
   "metadata": {},
   "source": [
    "### Gradient Descent"
   ]
  },
  {
   "cell_type": "code",
   "execution_count": 249,
   "metadata": {
    "collapsed": false
   },
   "outputs": [
    {
     "data": {
      "text/plain": [
       "array([-0.00056779, -0.001654  ,  0.00055597, -0.00011762,  0.00074642,\n",
       "       -0.00075326, -0.00043704,  0.00030849])"
      ]
     },
     "execution_count": 249,
     "metadata": {},
     "output_type": "execute_result"
    }
   ],
   "source": [
    "# Gradient descent - Scaled\n",
    "np.random.seed(2)\n",
    "phi = .1\n",
    "\n",
    "res = gd(Y, Xs, gradU, .1, 20000, np.zeros(p), phi)\n",
    "\n",
    "res - beta_true_scale"
   ]
  },
  {
   "cell_type": "code",
   "execution_count": null,
   "metadata": {
    "collapsed": false
   },
   "outputs": [],
   "source": []
  },
  {
   "cell_type": "code",
   "execution_count": null,
   "metadata": {
    "collapsed": false
   },
   "outputs": [],
   "source": []
  },
  {
   "cell_type": "code",
   "execution_count": null,
   "metadata": {
    "collapsed": true
   },
   "outputs": [],
   "source": []
  }
 ],
 "metadata": {
  "kernelspec": {
   "display_name": "Python 3",
   "language": "python",
   "name": "python3"
  },
  "language_info": {
   "codemirror_mode": {
    "name": "ipython",
    "version": 3
   },
   "file_extension": ".py",
   "mimetype": "text/x-python",
   "name": "python",
   "nbconvert_exporter": "python",
   "pygments_lexer": "ipython3",
   "version": "3.6.0"
  }
 },
 "nbformat": 4,
 "nbformat_minor": 2
}
