{
 "cells": [
  {
   "cell_type": "markdown",
   "metadata": {},
   "source": [
    "Here is the library of functions:"
   ]
  },
  {
   "cell_type": "code",
   "execution_count": 2,
   "metadata": {
    "collapsed": false
   },
   "outputs": [],
   "source": [
    "def logistic(x):\n",
    "    '''\n",
    "    '''\n",
    "    return 1/(1+np.exp(-x))\n",
    "\n",
    "def U_logistic(theta, Y, X, phi):\n",
    "    '''\n",
    "    '''\n",
    "    return - (Y.T @ X @ theta - np.sum(np.log(1+np.exp(X @ theta))) - 0.5 * phi * np.sum(theta**2))\n",
    "\n",
    "def gradU_logistic(theta, Y, X, phi):\n",
    "    '''\n",
    "    '''\n",
    "    n = X.shape[0]\n",
    "    \n",
    "    Y_pred = logistic(X @ theta)\n",
    "    epsilon = (Y[:,np.newaxis] - Y_pred[:,np.newaxis])\n",
    "    grad = X.T @ epsilon - phi * theta[:, np.newaxis]\n",
    "\n",
    "    return -grad/n\n",
    "\n",
    "\n",
    "def hmc(Y, X, U, gradU, M, eps, m, theta0, phi):\n",
    "    '''\n",
    "    '''\n",
    "    theta = theta0.copy()\n",
    "    n, p = X.shape\n",
    "    \n",
    "    # Precompute\n",
    "    Minv = np.linalg.inv(M)\n",
    "    \n",
    "    # Randomly sample momentum\n",
    "    r = np.random.multivariate_normal(np.zeros(p),M)[:,np.newaxis]\n",
    "    \n",
    "    # Intial energy\n",
    "    H0 = U(theta0, Y, X, phi) + 0.5 * np.asscalar(r.T @ Minv @ r)\n",
    "    \n",
    "    # Hamiltonian dynamics\n",
    "    r -= (eps/2)*gradU(theta, Y, X, phi)\n",
    "    for i in range(m):\n",
    "        theta += (eps*Minv@r).ravel()\n",
    "        r -= eps*gradU(theta, Y, X, phi)\n",
    "    r -= (eps/2)*gradU(theta, Y, X, phi)\n",
    "    \n",
    "    # Final energy\n",
    "    H1 = U(theta, Y, X, phi) + np.asscalar(0.5 * r.T @ Minv @ r)\n",
    "    \n",
    "    # MH step\n",
    "    u = np.random.uniform()\n",
    "    rho = np.exp(H0 - H1) # Acceptance probability\n",
    "    \n",
    "    if u < np.min((1, rho)):\n",
    "        # accept\n",
    "        accept = True\n",
    "        H = H1\n",
    "    else:\n",
    "        # reject\n",
    "        theta = theta0\n",
    "        accept = False\n",
    "        H = H0\n",
    "\n",
    "    return theta, accept, rho, H\n",
    "\n",
    "\n",
    "def run_hmc(Y, X, U, gradU, M, eps, m, theta, phi, nsample):\n",
    "\n",
    "    n, p = X.shape\n",
    "    \n",
    "    # Allocate space\n",
    "    samples = np.zeros((nsample, p))\n",
    "    accept = np.zeros(nsample)\n",
    "    rho = np.zeros(nsample)\n",
    "    H = np.zeros(nsample)\n",
    "    \n",
    "    # Run hmc\n",
    "    for i in range(nsample):\n",
    "        theta, accept[i], rho[i], H[i] = hmc(Y, X, U, gradU, M, eps, m, theta, phi)\n",
    "        samples[i] = theta\n",
    "        \n",
    "    return samples, accept, rho, H  \n",
    "\n",
    "def stogradU(theta, Y, X, nbatch, phi):\n",
    "    '''A function that returns the stochastic gradient. Adapted from Eq. 5.\n",
    "    Inputs are:\n",
    "        theta, the parameters\n",
    "        Y, the response\n",
    "        X, the covariates\n",
    "        nbatch, the number of samples to take from the full data\n",
    "    '''\n",
    "    n, p = X.shape\n",
    "    \n",
    "    # Sample minibatch\n",
    "    batch_id = np.random.choice(np.arange(n),nbatch,replace=False)\n",
    "    \n",
    "    Y_pred = logistic(X[batch_id,:] @ theta[:,np.newaxis])\n",
    "    epsilon = (Y[batch_id,np.newaxis] - Y_pred)\n",
    "    grad = n/nbatch * X[batch_id,:].T @ epsilon - phi * theta[:, np.newaxis]\n",
    "\n",
    "    #return -grad/n\n",
    "    return -grad\n",
    "\n",
    "def sghmc(Y, X, U, gradU, M, Minv, eps, m, theta, B, D, phi):\n",
    "    \n",
    "    n, p = X.shape\n",
    "    \n",
    "    # Randomly sample momentum\n",
    "    r = np.random.multivariate_normal(np.zeros(p),M)[:,np.newaxis]\n",
    "    \n",
    "    # Hamiltonian dynamics\n",
    "    for i in range(m):        \n",
    "        theta += (eps*Minv@r).ravel()\n",
    "        r -= eps*stogradU(theta, Y, X, nbatch,phi) - eps*C @ Minv @ r \\\n",
    "            + np.random.multivariate_normal(np.zeros(p),D)[:,np.newaxis] \n",
    "    \n",
    "    # Record the energy\n",
    "    H = U(theta, Y, X, phi) + np.asscalar(0.5 * r.T @ Minv @ r)\n",
    "    \n",
    "    return theta, H\n",
    "\n",
    "def run_sghmc(Y, X, U, gradU, M, eps, m, theta, C, V, phi, nsample):\n",
    "    n, p = X.shape\n",
    "    \n",
    "    # Precompute\n",
    "    Minv = np.linalg.inv(M)\n",
    "    B = 0.5 * V * eps\n",
    "    D = 2*(C-B)*eps\n",
    "    \n",
    "    # Allocate space\n",
    "    samples = np.zeros((nsample, p))\n",
    "    H = np.zeros(nsample)\n",
    "    \n",
    "    # Run sghmc\n",
    "    for i in range(nsample):\n",
    "        theta, H[i] = sghmc(Y, X, U, gradU, M, Minv, eps, m, theta, B, D, phi)\n",
    "        samples[i] = theta\n",
    "        \n",
    "    return samples, H\n",
    "    \n",
    "    \n",
    "def gd(Y, X, gradU, eps, m, theta, phi):\n",
    "    '''\n",
    "    '''\n",
    "    samples = np.zeros((nsample, p))\n",
    "    \n",
    "    for i in range(m):\n",
    "        theta -= eps*gradU(theta, Y, X, phi).ravel()\n",
    "      \n",
    "    return theta     "
   ]
  },
  {
   "cell_type": "markdown",
   "metadata": {},
   "source": [
    "Everything after here is the script that runs the simulation:"
   ]
  },
  {
   "cell_type": "code",
   "execution_count": 209,
   "metadata": {
    "collapsed": true
   },
   "outputs": [],
   "source": [
    "import numpy as np\n",
    "import matplotlib.pyplot as plt"
   ]
  },
  {
   "cell_type": "code",
   "execution_count": 210,
   "metadata": {
    "collapsed": false
   },
   "outputs": [
    {
     "name": "stderr",
     "output_type": "stream",
     "text": [
      "C:\\Users\\ga74\\AppData\\Local\\Continuum\\Anaconda3\\lib\\site-packages\\ipykernel\\__main__.py:13: RuntimeWarning: overflow encountered in exp\n"
     ]
    }
   ],
   "source": [
    "n = 500\n",
    "p = 50\n",
    "\n",
    "beta = np.random.normal(0, 1, p+1)\n",
    "\n",
    "Sigma = np.zeros((p, p))\n",
    "Sigma_diags = np.array([25, 5, 0.2**2])\n",
    "distribution = np.random.multinomial(p, pvals=[.05, .05, .9], size=1).tolist()\n",
    "np.fill_diagonal(Sigma, np.repeat(Sigma_diags, distribution[0], axis=0))\n",
    "\n",
    "X = np.random.multivariate_normal(np.zeros(p), Sigma, n)\n",
    "X = np.hstack((np.ones((n, 1)), X))\n",
    "p = np.exp(X @ beta)/np.exp(1 + np.exp(X @ beta))\n",
    "Y = np.random.binomial(1, p, n)"
   ]
  },
  {
   "cell_type": "code",
   "execution_count": 211,
   "metadata": {
    "collapsed": true
   },
   "outputs": [],
   "source": [
    "Xs = (X - np.mean(X, axis=0))/np.concatenate((np.ones(1),np.std(X[:,1:], axis=0)))\n",
    "Xs = Xs[:,1:]\n",
    "p = Xs.shape[1]"
   ]
  },
  {
   "cell_type": "markdown",
   "metadata": {},
   "source": [
    "### Regression"
   ]
  },
  {
   "cell_type": "code",
   "execution_count": 212,
   "metadata": {
    "collapsed": true
   },
   "outputs": [],
   "source": [
    "from sklearn.linear_model import LogisticRegression"
   ]
  },
  {
   "cell_type": "code",
   "execution_count": 213,
   "metadata": {
    "collapsed": false,
    "scrolled": false
   },
   "outputs": [
    {
     "data": {
      "text/plain": [
       "array([ -7.38991825e+01,  -1.04489811e+00,  -1.31658414e+00,\n",
       "         3.32657412e-01,   4.00023300e+00,  -2.16463307e-01,\n",
       "         4.19292435e+00,  -6.76955643e-02,   4.45911827e+00,\n",
       "         6.75070654e+00,   8.26519033e-01,   6.99259025e+01,\n",
       "        -3.04215408e+01,   3.82320899e+01,   7.43852887e+00,\n",
       "         2.02884740e+01,   3.90022687e+01,   4.91988060e+01,\n",
       "        -2.64245391e+01,   4.79238878e+01,  -1.77663494e+00,\n",
       "        -3.19406072e+00,   2.33092311e+01,   1.30778666e+01,\n",
       "         1.26338258e+01,  -5.54524939e+00,  -1.79652257e+01,\n",
       "         2.29630493e+01,  -3.25601345e+01,   1.68665657e+01,\n",
       "         4.82654428e+01,   6.71655719e+00,   1.33869836e+01,\n",
       "         2.10276694e+01,   2.54030331e+01,  -3.05226261e+01,\n",
       "         4.90099939e+01,   3.55612370e+00,   2.65985878e+01,\n",
       "        -5.78643564e+01,  -2.92033331e+01,  -1.51794654e+01,\n",
       "         6.19634877e+01,  -1.83272039e+01,   3.99035717e+00,\n",
       "        -2.09425700e+01,  -6.07588837e+00,   5.67246218e+00,\n",
       "         5.03272292e-03,   1.37421804e+01,  -4.61911520e+00])"
      ]
     },
     "execution_count": 213,
     "metadata": {},
     "output_type": "execute_result"
    }
   ],
   "source": [
    "# Unscaled\n",
    "mod_logis = LogisticRegression(fit_intercept=False, C=1e50)\n",
    "mod_logis.fit(X,Y)\n",
    "beta_true_unscale = mod_logis.coef_.ravel()\n",
    "beta_true_unscale"
   ]
  },
  {
   "cell_type": "code",
   "execution_count": 214,
   "metadata": {
    "collapsed": false
   },
   "outputs": [
    {
     "data": {
      "text/plain": [
       "array([-0.0009041 , -0.01298645,  0.01886128,  0.0448912 , -0.00730285,\n",
       "        0.03406837,  0.0071523 ,  0.02160248,  0.0575525 , -0.02594449,\n",
       "        0.06721534, -0.01639267,  0.06128064,  0.02524724,  0.00580752,\n",
       "        0.04497114,  0.029742  , -0.00339102,  0.01401497, -0.00114221,\n",
       "        0.00052129,  0.02224249,  0.00637736,  0.02202737, -0.01033835,\n",
       "        0.00316266,  0.00499174, -0.03854162,  0.02815376,  0.05506734,\n",
       "        0.04829338,  0.00899508,  0.04122936,  0.02174531, -0.0207708 ,\n",
       "        0.05709009, -0.01117335,  0.0302516 , -0.05586416, -0.04333116,\n",
       "       -0.06109851,  0.04166241, -0.02281873,  0.01483768, -0.00141968,\n",
       "       -0.02293428, -0.01176449,  0.01495602,  0.00685244, -0.000119  ])"
      ]
     },
     "execution_count": 214,
     "metadata": {},
     "output_type": "execute_result"
    }
   ],
   "source": [
    "# Scaled\n",
    "mod_logis = LogisticRegression(fit_intercept=False, C=1e50)\n",
    "mod_logis.fit(Xs,Y)\n",
    "beta_true_scale = mod_logis.coef_.ravel()\n",
    "beta_true_scale"
   ]
  },
  {
   "cell_type": "code",
   "execution_count": null,
   "metadata": {
    "collapsed": true
   },
   "outputs": [],
   "source": []
  },
  {
   "cell_type": "code",
   "execution_count": null,
   "metadata": {
    "collapsed": true
   },
   "outputs": [],
   "source": []
  },
  {
   "cell_type": "code",
   "execution_count": null,
   "metadata": {
    "collapsed": true
   },
   "outputs": [],
   "source": []
  },
  {
   "cell_type": "code",
   "execution_count": null,
   "metadata": {
    "collapsed": false
   },
   "outputs": [],
   "source": []
  },
  {
   "cell_type": "markdown",
   "metadata": {
    "collapsed": false
   },
   "source": [
    "### HMC"
   ]
  },
  {
   "cell_type": "code",
   "execution_count": 215,
   "metadata": {
    "collapsed": false
   },
   "outputs": [
    {
     "data": {
      "text/plain": [
       "array([-0.02399801, -0.03265291,  0.05121923, -0.05605126, -0.00996857,\n",
       "       -0.07380325, -0.00925972, -0.02505509, -0.06948899, -0.04804775,\n",
       "       -0.04839645, -0.0671677 ,  0.00106451, -0.0273283 , -0.01406059,\n",
       "       -0.02955034,  0.00419934, -0.04153387, -0.05303925,  0.01348212,\n",
       "        0.02134146, -0.07739617, -0.06427623, -0.05730416,  0.03350088,\n",
       "        0.02955498, -0.01950136, -0.04484103, -0.01828557, -0.1147767 ,\n",
       "       -0.06310884,  0.00755814, -0.05748281, -0.05657643,  0.00737186,\n",
       "       -0.09465229, -0.0322441 , -0.03594683, -0.00786833,  0.04297217,\n",
       "        0.04955844, -0.02027545,  0.06891305,  0.01086137,  0.04351528,\n",
       "        0.04514405,  0.08195478, -0.05507176, -0.02373364, -0.05357987])"
      ]
     },
     "execution_count": 215,
     "metadata": {},
     "output_type": "execute_result"
    }
   ],
   "source": [
    "# HMC - Scaled\n",
    "nsample = 1000\n",
    "m = 20\n",
    "eps = .0001\n",
    "theta = np.zeros(p)\n",
    "#theta = beta_true_scale.copy()\n",
    "phi = 5\n",
    "M = np.identity(p)\n",
    "\n",
    "samples, accept, rho, H = run_hmc(Y, Xs, U_logistic, gradU_logistic, M, eps, m, theta, phi, nsample)\n",
    "hmc_mean = np.mean(samples, axis=0)\n",
    "np.mean(samples, axis=0) - beta_true_scale"
   ]
  },
  {
   "cell_type": "code",
   "execution_count": 216,
   "metadata": {
    "collapsed": false
   },
   "outputs": [
    {
     "data": {
      "image/png": "[encoded data removed]",
      "text/plain": [
       "<matplotlib.figure.Figure at 0xd46fc454a8>"
      ]
     },
     "metadata": {},
     "output_type": "display_data"
    }
   ],
   "source": [
    "plt.plot((samples - beta_true_scale)[:,3])\n",
    "plt.show()"
   ]
  },
  {
   "cell_type": "code",
   "execution_count": 217,
   "metadata": {
    "collapsed": false
   },
   "outputs": [
    {
     "data": {
      "image/png": "[encoded data removed]",
      "text/plain": [
       "<matplotlib.figure.Figure at 0xd46face6d8>"
      ]
     },
     "metadata": {},
     "output_type": "display_data"
    }
   ],
   "source": [
    "plt.plot(H)\n",
    "plt.show()"
   ]
  },
  {
   "cell_type": "code",
   "execution_count": null,
   "metadata": {
    "collapsed": true
   },
   "outputs": [],
   "source": []
  },
  {
   "cell_type": "markdown",
   "metadata": {},
   "source": [
    "# HMC - Unscaled\n",
    "nsample = 1000\n",
    "m = 20\n",
    "eps = .008\n",
    "theta = np.zeros(p+1)\n",
    "#theta = beta_true_unscale.copy()\n",
    "phi = 5\n",
    "M = np.identity(p+1)\n",
    "\n",
    "samples, accept, rho, H = run_hmc(Y, X, U_logistic, gradU_logistic, M, eps, m, theta, phi, nsample)\n",
    "np.mean(samples, axis=0) - beta_true_unscale"
   ]
  },
  {
   "cell_type": "markdown",
   "metadata": {},
   "source": [
    "plt.plot((samples - beta_true_unscale)[:,3])\n",
    "plt.show()"
   ]
  },
  {
   "cell_type": "markdown",
   "metadata": {},
   "source": [
    "plt.plot(H)\n",
    "plt.show()"
   ]
  },
  {
   "cell_type": "markdown",
   "metadata": {},
   "source": [
    "### SGHMC"
   ]
  },
  {
   "cell_type": "code",
   "execution_count": null,
   "metadata": {
    "collapsed": false,
    "scrolled": true
   },
   "outputs": [],
   "source": [
    "# HMC - Scaled (no intercept)\n",
    "nsample = 10000\n",
    "m = 20\n",
    "eps = .01\n",
    "theta = np.zeros(p)\n",
    "#theta = beta_true_scale.copy()\n",
    "phi = 5\n",
    "nbatch = 500\n",
    "C = 1 * np.identity(p)\n",
    "V = 0 * np.identity(p)\n",
    "M = np.identity(p)\n",
    "\n",
    "samples, H = run_sghmc(Y, Xs, U_logistic, gradU_logistic, M, eps, m, theta, C, V, phi, nsample)\n",
    "\n",
    "print(np.mean(samples, axis=0) - beta_true_scale)"
   ]
  },
  {
   "cell_type": "code",
   "execution_count": null,
   "metadata": {
    "collapsed": false,
    "scrolled": true
   },
   "outputs": [],
   "source": [
    "plt.plot((samples - beta_true_scale)[:,0])\n",
    "plt.show()"
   ]
  },
  {
   "cell_type": "code",
   "execution_count": null,
   "metadata": {
    "collapsed": false,
    "scrolled": false
   },
   "outputs": [],
   "source": [
    "plt.plot(H)\n",
    "plt.show()"
   ]
  },
  {
   "cell_type": "code",
   "execution_count": null,
   "metadata": {
    "collapsed": true
   },
   "outputs": [],
   "source": []
  },
  {
   "cell_type": "markdown",
   "metadata": {},
   "source": [
    "# HMC - Unscaled (no intercept)\n",
    "nsample = 1000\n",
    "m = 20\n",
    "eps = .00001\n",
    "theta = np.zeros(p+1)\n",
    "#theta = beta_true_scale.copy()\n",
    "phi = 5\n",
    "nbatch = 500\n",
    "C = 1 * np.identity(p+1)\n",
    "V = 0 * np.identity(p+1)\n",
    "M = np.identity(p+1)\n",
    "\n",
    "samples, H = run_sghmc(Y, X, U_logistic, gradU_logistic, M, eps, m, theta, C, V, phi, nsample)\n",
    "\n",
    "print(np.mean(samples, axis=0) - beta_true_unscale)"
   ]
  },
  {
   "cell_type": "markdown",
   "metadata": {},
   "source": [
    "plt.plot((samples - beta_true_unscale)[:,0])\n",
    "plt.show()"
   ]
  },
  {
   "cell_type": "markdown",
   "metadata": {},
   "source": [
    "plt.plot(H)\n",
    "plt.show()"
   ]
  },
  {
   "cell_type": "markdown",
   "metadata": {},
   "source": [
    "### Gradient Descent"
   ]
  },
  {
   "cell_type": "code",
   "execution_count": null,
   "metadata": {
    "collapsed": false
   },
   "outputs": [],
   "source": [
    "# Gradient descent - Scaled\n",
    "np.random.seed(2)\n",
    "phi = .1\n",
    "\n",
    "res = gd(Y, Xs, gradU_logistic, .1, 20000, np.zeros(p), phi)\n",
    "\n",
    "res - beta_true_scale"
   ]
  },
  {
   "cell_type": "code",
   "execution_count": null,
   "metadata": {
    "collapsed": false
   },
   "outputs": [],
   "source": []
  },
  {
   "cell_type": "code",
   "execution_count": null,
   "metadata": {
    "collapsed": false
   },
   "outputs": [],
   "source": []
  },
  {
   "cell_type": "code",
   "execution_count": null,
   "metadata": {
    "collapsed": true
   },
   "outputs": [],
   "source": []
  }
 ],
 "metadata": {
  "kernelspec": {
   "display_name": "Python 3",
   "language": "python",
   "name": "python3"
  },
  "language_info": {
   "codemirror_mode": {
    "name": "ipython",
    "version": 3
   },
   "file_extension": ".py",
   "mimetype": "text/x-python",
   "name": "python",
   "nbconvert_exporter": "python",
   "pygments_lexer": "ipython3",
   "version": "3.6.0"
  }
 },
 "nbformat": 4,
 "nbformat_minor": 2
}
