{
 "cells": [
  {
   "cell_type": "markdown",
   "metadata": {},
   "source": [
    "Here is the library of functions:"
   ]
  },
  {
   "cell_type": "code",
   "execution_count": 91,
   "metadata": {
    "collapsed": false
   },
   "outputs": [],
   "source": [
    "def logistic(x):\n",
    "    '''\n",
    "    '''\n",
    "    return 1/(1+np.exp(-x))\n",
    "\n",
    "def U_logistic(theta, Y, X, phi):\n",
    "    '''\n",
    "    '''\n",
    "    return - (Y.T @ X @ theta - np.sum(np.log(1+np.exp(X @ theta))) - 0.5 * phi * np.sum(theta**2))\n",
    "\n",
    "def gradU_logistic(theta, Y, X, phi):\n",
    "    '''\n",
    "    '''\n",
    "    n = X.shape[0]\n",
    "    \n",
    "    Y_pred = logistic(X @ theta)\n",
    "    epsilon = (Y[:,np.newaxis] - Y_pred[:,np.newaxis])\n",
    "    grad = X.T @ epsilon - phi * theta[:, np.newaxis]\n",
    "\n",
    "    return -grad/n\n",
    "\n",
    "\n",
    "def hmc(Y, X, U, gradU, M, eps, m, theta0, phi):\n",
    "    '''\n",
    "    '''\n",
    "    theta = theta0.copy()\n",
    "    n, p = X.shape\n",
    "    \n",
    "    # Precompute\n",
    "    Minv = np.linalg.inv(M)\n",
    "    \n",
    "    # Randomly sample momentum\n",
    "    r = np.random.multivariate_normal(np.zeros(p),M)[:,np.newaxis]\n",
    "    \n",
    "    # Intial energy\n",
    "    H0 = U(theta0, Y, X, phi) + 0.5 * np.asscalar(r.T @ Minv @ r)\n",
    "    \n",
    "    # Hamiltonian dynamics\n",
    "    r -= (eps/2)*gradU(theta, Y, X, phi)\n",
    "    for i in range(m):\n",
    "        theta += (eps*Minv@r).ravel()\n",
    "        r -= eps*gradU(theta, Y, X, phi)\n",
    "    r -= (eps/2)*gradU(theta, Y, X, phi)\n",
    "    \n",
    "    # Final energy\n",
    "    H1 = U(theta, Y, X, phi) + np.asscalar(0.5 * r.T @ Minv @ r)\n",
    "    \n",
    "    # MH step\n",
    "    u = np.random.uniform()\n",
    "    rho = np.exp(H0 - H1) # Acceptance probability\n",
    "    \n",
    "    if u < np.min((1, rho)):\n",
    "        # accept\n",
    "        accept = True\n",
    "        H = H1\n",
    "    else:\n",
    "        # reject\n",
    "        theta = theta0\n",
    "        accept = False\n",
    "        H = H0\n",
    "\n",
    "    return theta, accept, rho, H\n",
    "\n",
    "\n",
    "def run_hmc(Y, X, U, gradU, M, eps, m, theta, phi, nsample):\n",
    "\n",
    "    n, p = X.shape\n",
    "    \n",
    "    # Allocate space\n",
    "    samples = np.zeros((nsample, p))\n",
    "    accept = np.zeros(nsample)\n",
    "    rho = np.zeros(nsample)\n",
    "    H = np.zeros(nsample)\n",
    "    \n",
    "    # Run hmc\n",
    "    for i in range(nsample):\n",
    "        theta, accept[i], rho[i], H[i] = hmc(Y, X, U, gradU, M, eps, m, theta, phi)\n",
    "        samples[i] = theta\n",
    "        \n",
    "    return samples, accept, rho, H  \n",
    "\n",
    "def stogradU(theta, Y, X, nbatch, phi):\n",
    "    '''A function that returns the stochastic gradient. Adapted from Eq. 5.\n",
    "    Inputs are:\n",
    "        theta, the parameters\n",
    "        Y, the response\n",
    "        X, the covariates\n",
    "        nbatch, the number of samples to take from the full data\n",
    "    '''\n",
    "    n, p = X.shape\n",
    "    \n",
    "    # Sample minibatch\n",
    "    batch_id = np.random.choice(np.arange(n),nbatch,replace=False)\n",
    "    \n",
    "    Y_pred = logistic(X[batch_id,:] @ theta[:,np.newaxis])\n",
    "    epsilon = (Y[batch_id,np.newaxis] - Y_pred)\n",
    "    grad = n/nbatch * X[batch_id,:].T @ epsilon - phi * theta[:, np.newaxis]\n",
    "\n",
    "    #return -grad/n\n",
    "    return -grad\n",
    "\n",
    "def sghmc(Y, X, U, gradU, M, Minv, eps, m, theta, B, D, phi):\n",
    "    \n",
    "    n, p = X.shape\n",
    "    \n",
    "    # Randomly sample momentum\n",
    "    r = np.random.multivariate_normal(np.zeros(p),M)[:,np.newaxis]\n",
    "    \n",
    "    # Hamiltonian dynamics\n",
    "    for i in range(m):        \n",
    "        theta += (eps*Minv@r).ravel()\n",
    "        r -= eps*stogradU(theta, Y, X, nbatch,phi) - eps*C @ Minv @ r \\\n",
    "            + np.random.multivariate_normal(np.zeros(p),D)[:,np.newaxis] \n",
    "    \n",
    "    # Record the energy\n",
    "    H = U(theta, Y, X, phi) + np.asscalar(0.5 * r.T @ Minv @ r)\n",
    "    \n",
    "    return theta, H\n",
    "\n",
    "def run_sghmc(Y, X, U, gradU, M, eps, m, theta, C, V, phi, nsample):\n",
    "    n, p = X.shape\n",
    "    \n",
    "    # Precompute\n",
    "    Minv = np.linalg.inv(M)\n",
    "    B = 0.5 * V * eps\n",
    "    D = 2*(C-B)*eps\n",
    "    \n",
    "    # Allocate space\n",
    "    samples = np.zeros((nsample, p))\n",
    "    H = np.zeros(nsample)\n",
    "    \n",
    "    # Run sghmc\n",
    "    for i in range(nsample):\n",
    "        theta, H[i] = sghmc(Y, X, U, gradU, M, Minv, eps, m, theta, B, D, phi)\n",
    "        samples[i] = theta\n",
    "        \n",
    "    return samples, H\n",
    "    \n",
    "    \n",
    "def gd(Y, X, gradU, eps, m, theta, phi):\n",
    "    '''\n",
    "    '''\n",
    "    samples = np.zeros((nsample, p))\n",
    "    \n",
    "    for i in range(m):\n",
    "        theta -= eps*gradU(theta, Y, X, phi).ravel()\n",
    "      \n",
    "    return theta     "
   ]
  },
  {
   "cell_type": "markdown",
   "metadata": {},
   "source": [
    "Everything after here is the script that runs the simulation:"
   ]
  },
  {
   "cell_type": "code",
   "execution_count": 92,
   "metadata": {
    "collapsed": true
   },
   "outputs": [],
   "source": [
    "import numpy as np\n",
    "import matplotlib.pyplot as plt"
   ]
  },
  {
   "cell_type": "code",
   "execution_count": 93,
   "metadata": {
    "collapsed": false
   },
   "outputs": [
    {
     "name": "stderr",
     "output_type": "stream",
     "text": [
      "C:\\Users\\ga74\\AppData\\Local\\Continuum\\Anaconda3\\lib\\site-packages\\ipykernel\\__main__.py:12: RuntimeWarning: overflow encountered in exp\n"
     ]
    }
   ],
   "source": [
    "n = 500\n",
    "\n",
    "beta = np.random.normal(0, 1, 101)\n",
    "\n",
    "Sigma = np.zeros((100, 100))\n",
    "Sigma_diags = np.array([25, 5, 0.2**2])\n",
    "np.fill_diagonal(Sigma, np.repeat(Sigma_diags, [5, 5, 90], axis=0))\n",
    "\n",
    "\n",
    "X = np.random.multivariate_normal(np.zeros(100), Sigma, n)\n",
    "X = np.hstack((np.ones((n, 1)), X))\n",
    "p = np.exp(X @ beta)/np.exp(1 + np.exp(X @ beta))\n",
    "Y = np.random.binomial(1, p, n)"
   ]
  },
  {
   "cell_type": "code",
   "execution_count": 94,
   "metadata": {
    "collapsed": true
   },
   "outputs": [],
   "source": [
    "Xs = (X - np.mean(X, axis=0))/np.concatenate((np.ones(1),np.std(X[:,1:], axis=0)))\n",
    "Xs = Xs[:,1:]\n",
    "p = Xs.shape[1]"
   ]
  },
  {
   "cell_type": "code",
   "execution_count": null,
   "metadata": {
    "collapsed": false
   },
   "outputs": [],
   "source": []
  },
  {
   "cell_type": "markdown",
   "metadata": {},
   "source": [
    "### Regression"
   ]
  },
  {
   "cell_type": "code",
   "execution_count": 95,
   "metadata": {
    "collapsed": true
   },
   "outputs": [],
   "source": [
    "from sklearn.linear_model import LogisticRegression"
   ]
  },
  {
   "cell_type": "code",
   "execution_count": 116,
   "metadata": {
    "collapsed": false,
    "scrolled": false
   },
   "outputs": [
    {
     "data": {
      "text/plain": [
       "array([-23.87974322,   0.7701556 ,  -0.05289304,   1.83411699,\n",
       "         1.28707941,   1.31062188,   0.69792143,   1.01558086,\n",
       "         0.86375116,   2.43584682,   1.32575634,   2.66538715,\n",
       "         2.25210244,  -2.76686897,   2.60979734,   0.58788948,\n",
       "         2.22404637,  -4.91953454,   7.55700109,  -2.67024695,\n",
       "        -5.71137593,   0.09913399,  -1.23894685,   3.40270618,\n",
       "        -6.66130641,   3.5542712 ,  -9.81467021,   1.66043356,\n",
       "        -3.46098173,  -2.35966415,   3.83393346,  -0.57249938,\n",
       "        -2.49808676,   4.05711569,  -0.33941084,   2.89580226,\n",
       "         2.85116002,  -0.8271249 ,  -1.74229078,  -0.23482273,\n",
       "         1.75129477,   0.62659179,   2.54776513,  -1.72018811,\n",
       "         2.91503166,   9.87937743,  -4.56792022,  -6.84591373,\n",
       "        -5.13785072,  -4.54587559,   1.59791775,  -4.8336103 ,\n",
       "        -0.42322311,   1.29343294,  -0.30620152,   4.4414231 ,\n",
       "        -0.54143472,   6.16994886,   1.13920067,   0.52244569,\n",
       "        -4.30966386,   3.39140699,   2.70627633,  -6.70999121,\n",
       "        -5.47018439,   0.61380426,   7.17392591,  -6.2951615 ,\n",
       "         2.47976896,   0.27435888,  -2.75194659,   2.53609463,\n",
       "         3.66139844,  -3.06357529,  -1.67175773,  -5.66419212,\n",
       "        -2.10981498,  -4.45623844,  -0.06768172,  -3.34943832,\n",
       "         4.06745931,   7.89403195,   2.00106197,   2.44729892,\n",
       "         0.67132291,   6.83163878,   1.82791882,   3.81446362,\n",
       "        -3.14715764,   3.95177726,   3.27935718,   5.97951691,\n",
       "         1.68766129,  -6.15824339,   2.27240648,  -2.51263668,\n",
       "        -5.49996923,   3.33744214,   1.42252788,   2.04645973,  -1.29063123])"
      ]
     },
     "execution_count": 116,
     "metadata": {},
     "output_type": "execute_result"
    }
   ],
   "source": [
    "# Unscaled\n",
    "mod_logis = LogisticRegression(fit_intercept=False, C=1e50)\n",
    "mod_logis.fit(X,Y)\n",
    "beta_true_unscale = mod_logis.coef_.ravel()\n",
    "beta_true_unscale"
   ]
  },
  {
   "cell_type": "code",
   "execution_count": 117,
   "metadata": {
    "collapsed": false
   },
   "outputs": [
    {
     "data": {
      "text/plain": [
       "array([ 0.0309399 ,  0.02374437,  0.01462907, -0.01302831, -0.00247749,\n",
       "       -0.00958802,  0.00697073,  0.05770591, -0.00818269, -0.01645093,\n",
       "        0.01560114, -0.01009559, -0.00535805,  0.01991817,  0.0037105 ,\n",
       "        0.00049101, -0.02313695,  0.03445006, -0.00662697, -0.01579301,\n",
       "       -0.01145309, -0.02578478,  0.01502635, -0.02513496,  0.01253962,\n",
       "       -0.04737018, -0.01018029, -0.01822131, -0.00325525,  0.01862299,\n",
       "       -0.00105766, -0.01260241,  0.02552991,  0.00576708,  0.02501346,\n",
       "        0.02206641, -0.01547521, -0.00030468,  0.01466267,  0.0051176 ,\n",
       "        0.0027731 ,  0.00432567, -0.01260235,  0.01873535,  0.04743744,\n",
       "       -0.01990116, -0.02655128, -0.03112201, -0.01776737,  0.00322597,\n",
       "       -0.01630936, -0.01125391, -0.00640565,  0.01608911,  0.02377252,\n",
       "       -0.01065225,  0.00672203,  0.01472028,  0.01220875, -0.01627585,\n",
       "        0.00136127,  0.01742969, -0.0231475 , -0.03005805, -0.00317732,\n",
       "        0.04244451, -0.03450381,  0.0164596 ,  0.00742656, -0.01797264,\n",
       "        0.01298985,  0.0060315 , -0.00994413,  0.0020128 , -0.01033788,\n",
       "       -0.01710816, -0.03095487,  0.01059694, -0.02258219,  0.01743242,\n",
       "        0.01284761,  0.00564455,  0.00892639,  0.00421778,  0.03868166,\n",
       "       -0.00442488,  0.02005758, -0.01081772,  0.02882425,  0.00875523,\n",
       "        0.03477072,  0.01900944, -0.02215243, -0.00086032, -0.01216013,\n",
       "       -0.02014648,  0.00725287,  0.01126682,  0.00696521, -0.01847621])"
      ]
     },
     "execution_count": 117,
     "metadata": {},
     "output_type": "execute_result"
    }
   ],
   "source": [
    "# Scaled\n",
    "mod_logis = LogisticRegression(fit_intercept=False, C=1e50)\n",
    "mod_logis.fit(Xs,Y)\n",
    "beta_true_scale = mod_logis.coef_.ravel()\n",
    "beta_true_scale"
   ]
  },
  {
   "cell_type": "code",
   "execution_count": null,
   "metadata": {
    "collapsed": true
   },
   "outputs": [],
   "source": []
  },
  {
   "cell_type": "code",
   "execution_count": null,
   "metadata": {
    "collapsed": true
   },
   "outputs": [],
   "source": []
  },
  {
   "cell_type": "code",
   "execution_count": null,
   "metadata": {
    "collapsed": true
   },
   "outputs": [],
   "source": []
  },
  {
   "cell_type": "code",
   "execution_count": null,
   "metadata": {
    "collapsed": false
   },
   "outputs": [],
   "source": []
  },
  {
   "cell_type": "markdown",
   "metadata": {
    "collapsed": false
   },
   "source": [
    "### HMC"
   ]
  },
  {
   "cell_type": "code",
   "execution_count": 98,
   "metadata": {
    "collapsed": false
   },
   "outputs": [
    {
     "data": {
      "text/plain": [
       "array([-0.0309399 , -0.02374437, -0.01462907,  0.01302831,  0.00247749,\n",
       "        0.00958802, -0.00697073, -0.05770591,  0.00818269,  0.01645093,\n",
       "       -0.01560114,  0.01009559,  0.00535805, -0.01991817, -0.0037105 ,\n",
       "       -0.00049101,  0.02313695, -0.03445006,  0.00662697,  0.01579301,\n",
       "        0.01145309,  0.02578478, -0.01502635,  0.02513496, -0.01253962,\n",
       "        0.04737018,  0.01018029,  0.01822131,  0.00325525, -0.01862299,\n",
       "        0.00105766,  0.01260241, -0.02552991, -0.00576708, -0.02501346,\n",
       "       -0.02206641,  0.01547521,  0.00030468, -0.01466267, -0.0051176 ,\n",
       "       -0.0027731 , -0.00432567,  0.01260235, -0.01873535, -0.04743744,\n",
       "        0.01990116,  0.02655128,  0.03112201,  0.01776737, -0.00322597,\n",
       "        0.01630936,  0.01125391,  0.00640565, -0.01608911, -0.02377252,\n",
       "        0.01065225, -0.00672203, -0.01472028, -0.01220875,  0.01627585,\n",
       "       -0.00136127, -0.01742969,  0.0231475 ,  0.03005805,  0.00317732,\n",
       "       -0.04244451,  0.03450381, -0.0164596 , -0.00742656,  0.01797264,\n",
       "       -0.01298985, -0.0060315 ,  0.00994413, -0.0020128 ,  0.01033788,\n",
       "        0.01710816,  0.03095487, -0.01059694,  0.02258219, -0.01743242,\n",
       "       -0.01284761, -0.00564455, -0.00892639, -0.00421778, -0.03868166,\n",
       "        0.00442488, -0.02005758,  0.01081772, -0.02882425, -0.00875523,\n",
       "       -0.03477072, -0.01900944,  0.02215243,  0.00086032,  0.01216013,\n",
       "        0.02014648, -0.00725287, -0.01126682, -0.00696521,  0.01847621])"
      ]
     },
     "execution_count": 98,
     "metadata": {},
     "output_type": "execute_result"
    }
   ],
   "source": [
    "# HMC - Scaled\n",
    "nsample = 1000\n",
    "m = 20\n",
    "eps = .03\n",
    "theta = np.zeros(p)\n",
    "#theta = beta_true_unscale.copy()\n",
    "phi = 5\n",
    "M = np.identity(p)\n",
    "\n",
    "samples, accept, rho, H = run_hmc(Y, Xs, U_logistic, gradU_logistic, M, eps, m, theta, phi, nsample)\n",
    "hmc_mean = np.mean(samples, axis=0)\n",
    "np.mean(samples, axis=0) - beta"
   ]
  },
  {
   "cell_type": "code",
   "execution_count": 99,
   "metadata": {
    "collapsed": false
   },
   "outputs": [
    {
     "data": {
      "image/png": "[encoded data removed]",
      "text/plain": [
       "<matplotlib.figure.Figure at 0x43448f2160>"
      ]
     },
     "metadata": {},
     "output_type": "display_data"
    }
   ],
   "source": [
    "plt.plot((samples - beta_true_scale)[:,3])\n",
    "plt.show()"
   ]
  },
  {
   "cell_type": "code",
   "execution_count": 100,
   "metadata": {
    "collapsed": false
   },
   "outputs": [
    {
     "data": {
      "image/png": "[encoded data removed]",
      "text/plain": [
       "<matplotlib.figure.Figure at 0x434f46e470>"
      ]
     },
     "metadata": {},
     "output_type": "display_data"
    }
   ],
   "source": [
    "plt.plot(H)\n",
    "plt.show()"
   ]
  },
  {
   "cell_type": "markdown",
   "metadata": {},
   "source": [
    "### SGHMC"
   ]
  },
  {
   "cell_type": "code",
   "execution_count": null,
   "metadata": {
    "collapsed": false
   },
   "outputs": [],
   "source": [
    "# HMC - Scaled (no intercept)\n",
    "nsample = 1000\n",
    "m = 20\n",
    "eps = .00001\n",
    "theta = np.zeros(p)\n",
    "#theta = beta_true_scale.copy()\n",
    "phi = 5\n",
    "nbatch = 500\n",
    "C = 1 * np.identity(p)\n",
    "V = 0 * np.identity(p)\n",
    "M = np.identity(p)\n",
    "\n",
    "samples, H = run_sghmc(Y, Xs, U_logistic, gradU_logistic, M, eps, m, theta, C, V, phi, nsample)\n",
    "\n",
    "print(np.mean(samples, axis=0) - beta_true_scale)\n",
    "print(np.mean(samples, axis=0) - hmc_mean)"
   ]
  },
  {
   "cell_type": "code",
   "execution_count": null,
   "metadata": {
    "collapsed": false,
    "scrolled": true
   },
   "outputs": [],
   "source": [
    "plt.plot((samples - beta_true_scale)[:,0])\n",
    "plt.show()"
   ]
  },
  {
   "cell_type": "code",
   "execution_count": null,
   "metadata": {
    "collapsed": false,
    "scrolled": false
   },
   "outputs": [],
   "source": [
    "plt.plot(H)\n",
    "plt.show()"
   ]
  },
  {
   "cell_type": "markdown",
   "metadata": {},
   "source": [
    "### Gradient Descent"
   ]
  },
  {
   "cell_type": "code",
   "execution_count": 62,
   "metadata": {
    "collapsed": false
   },
   "outputs": [
    {
     "data": {
      "text/plain": [
       "array([  1.30030731e-05,  -4.84788866e-06,  -7.38384992e-06,\n",
       "        -1.02944555e-05,   8.66430924e-06,  -4.70822142e-06,\n",
       "         5.46292610e-06,   8.93509354e-06,  -4.68560464e-05,\n",
       "         2.40004468e-06,   1.14471886e-05,  -6.90347796e-06,\n",
       "         4.59778028e-06,   4.33857897e-06,  -3.03875376e-06,\n",
       "        -8.17785010e-06,   5.53744716e-06,  -4.79818541e-06,\n",
       "         2.31477827e-05,   8.59466096e-06,   2.83825363e-05,\n",
       "         2.49512877e-06,   1.74386471e-05,   4.12046855e-06,\n",
       "         4.11891655e-05,  -5.73523440e-06,  -1.60084916e-07,\n",
       "        -1.51695584e-05,  -1.35541284e-05,  -5.80986652e-08,\n",
       "         6.21331067e-06,  -2.65033440e-05,  -1.38818784e-05,\n",
       "        -1.89987240e-05,   1.33697739e-05,  -4.48513041e-06,\n",
       "        -1.27698904e-05,   1.00268971e-05,   6.02468206e-06,\n",
       "        -1.21107985e-05,  -8.02114426e-07,   4.62646490e-06,\n",
       "         3.17541239e-05,   2.43314912e-05,  -2.12152877e-05,\n",
       "        -1.86488650e-05,   1.40693721e-05,   1.21215097e-05,\n",
       "        -1.87795458e-05,  -9.69643269e-07,   6.03144305e-08,\n",
       "         4.63205913e-06,  -9.04715748e-06,   1.59411705e-05,\n",
       "         2.57729957e-05,  -4.98336582e-06,  -5.97661394e-06,\n",
       "         4.42991055e-06,  -1.43031873e-05,  -2.31427756e-05,\n",
       "         2.34612681e-05,   5.74753101e-07,  -1.27741738e-05,\n",
       "         2.20744941e-05,   3.82409169e-05,   1.06434891e-05,\n",
       "        -2.80273406e-05,   2.55836378e-05,   1.24869315e-05,\n",
       "        -4.17940537e-05,  -6.41900588e-06,   2.92452425e-05,\n",
       "        -7.42048514e-06,   1.84553603e-05,   2.15463627e-05,\n",
       "        -4.63392277e-05,  -1.27429811e-05,   1.46381806e-05,\n",
       "        -3.40247798e-06,  -2.81176939e-05,   2.83366919e-05,\n",
       "         2.82814535e-05,  -1.46342499e-07,   3.99631445e-06,\n",
       "        -2.03379745e-06,  -8.63946584e-06,  -3.03141892e-06,\n",
       "        -3.03389963e-05,   6.13471262e-06,  -1.34498187e-05,\n",
       "         3.20705343e-05,   8.76170493e-06,   1.12533827e-05,\n",
       "        -2.82527626e-05,  -1.16785587e-05,  -2.68343097e-05,\n",
       "        -8.05742184e-06,   1.09728562e-05,  -1.39296263e-05,\n",
       "        -1.21334769e-05])"
      ]
     },
     "execution_count": 62,
     "metadata": {},
     "output_type": "execute_result"
    }
   ],
   "source": [
    "# Gradient descent - Scaled\n",
    "np.random.seed(2)\n",
    "phi = .1\n",
    "\n",
    "res = gd(Y, Xs, gradU_logistic, .1, 20000, np.zeros(p), phi)\n",
    "\n",
    "res - beta_true_scale"
   ]
  },
  {
   "cell_type": "code",
   "execution_count": null,
   "metadata": {
    "collapsed": false
   },
   "outputs": [],
   "source": []
  },
  {
   "cell_type": "code",
   "execution_count": null,
   "metadata": {
    "collapsed": false
   },
   "outputs": [],
   "source": []
  },
  {
   "cell_type": "code",
   "execution_count": null,
   "metadata": {
    "collapsed": true
   },
   "outputs": [],
   "source": []
  }
 ],
 "metadata": {
  "kernelspec": {
   "display_name": "Python 3",
   "language": "python",
   "name": "python3"
  },
  "language_info": {
   "codemirror_mode": {
    "name": "ipython",
    "version": 3
   },
   "file_extension": ".py",
   "mimetype": "text/x-python",
   "name": "python",
   "nbconvert_exporter": "python",
   "pygments_lexer": "ipython3",
   "version": "3.6.0"
  }
 },
 "nbformat": 4,
 "nbformat_minor": 2
}
