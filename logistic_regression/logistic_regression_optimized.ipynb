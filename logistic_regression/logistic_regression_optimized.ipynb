{
 "cells": [
  {
   "cell_type": "markdown",
   "metadata": {},
   "source": [
    "This notebook includes a pybind11 implementation of Stochastic Gradient Descent Hamiltonian Monte Carlo. Performance is compared on the Pima Indian dataset."
   ]
  },
  {
   "cell_type": "code",
   "execution_count": 3,
   "metadata": {
    "collapsed": true
   },
   "outputs": [],
   "source": [
    "import os\n",
    "if not os.path.exists('./eigen'):\n",
    "    ! git clone https://github.com/RLovelett/eigen.git"
   ]
  },
  {
   "cell_type": "code",
   "execution_count": 4,
   "metadata": {
    "collapsed": true
   },
   "outputs": [],
   "source": [
    "import cppimport\n",
    "import numpy as np\n",
    "import matplotlib.pyplot as plt\n",
    "import sghmc"
   ]
  },
  {
   "cell_type": "code",
   "execution_count": 1,
   "metadata": {
    "collapsed": false
   },
   "outputs": [
    {
     "name": "stdout",
     "output_type": "stream",
     "text": [
      "Overwriting wrap.cpp\n"
     ]
    }
   ],
   "source": [
    "%%file wrap.cpp\n",
    "<%\n",
    "cfg['compiler_args'] = ['-std=c++11']\n",
    "cfg['include_dirs'] = ['./eigen']\n",
    "setup_pybind11(cfg)\n",
    "%>\n",
    "\n",
    "#include <pybind11/pybind11.h>\n",
    "#include <pybind11/numpy.h>\n",
    "#include <pybind11/eigen.h>\n",
    "#include <Eigen/Cholesky>\n",
    "\n",
    "#include <random>\n",
    "#include <algorithm>\n",
    "#include <iterator>\n",
    "#include <iostream>\n",
    "\n",
    "namespace py = pybind11;\n",
    "\n",
    "Eigen::VectorXd logistic(Eigen::VectorXd x) {\n",
    "    return 1.0/(1.0 + exp((-x).array()));\n",
    "}\n",
    "\n",
    "Eigen::VectorXd gd(Eigen::MatrixXd X, Eigen::VectorXd y, Eigen::VectorXd beta, double alpha, int niter) {\n",
    "    int n = X.rows();\n",
    "    \n",
    "    Eigen::VectorXd y_pred;\n",
    "    Eigen::VectorXd resid;\n",
    "    Eigen::VectorXd grad;\n",
    "    Eigen::MatrixXd Xt = X.transpose();\n",
    "            \n",
    "    for (int i=0; i<niter; i++) {\n",
    "        y_pred = logistic(X * beta);\n",
    "        resid = y - y_pred;\n",
    "        grad = Xt * resid / n;\n",
    "        beta = beta + alpha * grad;\n",
    "    }\n",
    "    return beta;\n",
    "}\n",
    "   \n",
    "Eigen::MatrixXd mvnorm(Eigen::VectorXd mu, Eigen::MatrixXd Sigma, int n) {\n",
    "    /*\n",
    "    Samples from multivariate normal\n",
    "    */\n",
    "    std::default_random_engine gen(std::random_device{}());\n",
    "    std::normal_distribution<double> distribution(0, 1);    \n",
    "    \n",
    "    Eigen::MatrixXd A(Sigma.llt().matrixL());\n",
    "    int p = mu.size();\n",
    "    Eigen::MatrixXd Z(n,p);  \n",
    "            \n",
    "    for(int i=0; i<n; i++) {\n",
    "        Eigen::VectorXd v(p);\n",
    "        for(int j=0; j<p; j++){\n",
    "            v[j] = distribution(gen);\n",
    "        }\n",
    "        Z.row(i) = mu + A*v;\n",
    "    }\n",
    "    return Z;          \n",
    "}\n",
    "    \n",
    "\n",
    "std::unordered_set<int> pickSet(int N, int k, std::mt19937& gen)\n",
    "{\n",
    "    // Index of random rows to take.\n",
    "    // Adapted from http://stackoverflow.com/questions/28287138/c-randomly-sample-k-numbers-from-range-0n-1-n-k-without-replacement/28287837\n",
    "    \n",
    "    std::unordered_set<int> sample;\n",
    "    std::default_random_engine generator;\n",
    "\n",
    "    for(int d = N - k; d < N; d++) {\n",
    "        int t = std::uniform_int_distribution<>(0, d)(generator);\n",
    "        if (sample.find(t) == sample.end()) {\n",
    "            sample.insert(t);\n",
    "        } else {\n",
    "            sample.insert(d);\n",
    "        }\n",
    "    }\n",
    "    return sample;\n",
    "}\n",
    "\n",
    "\n",
    "std::vector<int> pick(int N, int k) {\n",
    "    // Randomly samples k integers from 1:N\n",
    "    // Adapted from http://stackoverflow.com/questions/28287138/c-randomly-sample-k-numbers-from-range-0n-1-n-k-without-replacement/28287837        \n",
    "            \n",
    "    std::random_device rd;\n",
    "    std::mt19937 gen(rd());\n",
    "\n",
    "    std::unordered_set<int> elems = pickSet(N, k, gen);\n",
    "\n",
    "    std::vector<int> result(elems.begin(), elems.end());\n",
    "    std::shuffle(result.begin(), result.end(), gen);\n",
    "    return result;\n",
    "}\n",
    "    \n",
    "    \n",
    "\n",
    "Eigen::VectorXd stogradU_logistic(Eigen::VectorXd theta, Eigen::VectorXd Y, Eigen::MatrixXd X, int nbatch, double phi) {\n",
    "    // Stochastic gradient function\n",
    "    int n = X.rows();\n",
    "    int p = X.cols();\n",
    "    \n",
    "    // Allocate\n",
    "    Eigen::MatrixXd Xsamp = Eigen::MatrixXd::Zero( nbatch, p ); \n",
    "    Eigen::VectorXd Ysamp = Eigen::VectorXd::Zero( nbatch );            \n",
    "    Eigen::VectorXd Y_pred;\n",
    "    Eigen::VectorXd epsilon;\n",
    "    Eigen::VectorXd grad;\n",
    "            \n",
    "    std::vector<int> r = pick(n, nbatch);\n",
    "            \n",
    "    for(int i=0; i<nbatch; i++) {\n",
    "        Xsamp.row(i) = X.row(r[i]-1);\n",
    "        Ysamp.row(i) = Y.row(r[i]-1);\n",
    "    }        \n",
    "            \n",
    "            \n",
    "    Eigen::MatrixXd Xsampt = Xsamp.transpose();\n",
    "                \n",
    "    Y_pred = logistic(Xsamp * theta);\n",
    "    epsilon = Ysamp - Y_pred;\n",
    "    grad = n/nbatch * Xsampt * epsilon - phi * theta;\n",
    "\n",
    "    return -grad;\n",
    "}\n",
    "        \n",
    "Eigen::VectorXd sghmc_opt(Eigen::VectorXd Y, Eigen::MatrixXd X, Eigen::MatrixXd M, Eigen::MatrixXd Minv, double eps, int m, Eigen::VectorXd theta, Eigen::MatrixXd C, Eigen::MatrixXd B, Eigen::MatrixXd D, double phi, int nbatch) {          \n",
    "    // Optimized sghmc\n",
    "     \n",
    "    int n = X.rows();\n",
    "    int p = X.cols();\n",
    "    Eigen::VectorXd sgrad;\n",
    "    Eigen::VectorXd noise;            \n",
    "    \n",
    "    // Randomly sample momentum\n",
    "    Eigen::VectorXd mu = Eigen::VectorXd::Zero( p );       \n",
    "    Eigen::VectorXd r = mvnorm(mu,M,1).row(0);\n",
    "    //Eigen::MatrixXd r = Eigen::VectorXd::Zero( p, p );   \n",
    "    \n",
    "       \n",
    "    for(int i=0; i<m; i++) {\n",
    "        theta = theta + eps * Minv * r;\n",
    "                    \n",
    "        sgrad = stogradU_logistic(theta, Y, X, nbatch, phi);\n",
    "        noise = mvnorm(mu,D,1).row(0);\n",
    "        r = r - eps*sgrad - eps*C*Minv*r + noise;\n",
    "    }        \n",
    "\n",
    "    return theta;\n",
    "\n",
    "}              \n",
    "\n",
    "Eigen::MatrixXd sghmc_opt_run(Eigen::VectorXd Y, Eigen::MatrixXd X, Eigen::MatrixXd M, double eps, int m, Eigen::VectorXd theta, Eigen::MatrixXd C, Eigen::MatrixXd V, double phi, int nsample, int nbatch) {\n",
    "    // sghmc wrapper  \n",
    "    \n",
    "    int n = X.rows();\n",
    "    int p = X.cols();  \n",
    "    \n",
    "    // Precompute        \n",
    "    Eigen::MatrixXd Minv = M;        \n",
    "            \n",
    "    Eigen::MatrixXd B = 0.5 * V * eps;\n",
    "    Eigen::MatrixXd D = 2*(C-B)*eps;\n",
    "    \n",
    "    //Allocate        \n",
    "    Eigen::MatrixXd samples(nsample,p);        \n",
    "            \n",
    "    for(int i=0; i<nsample; i++) {\n",
    "        theta = sghmc_opt(Y, X, M, Minv, eps, m, theta, C, B, D, phi, nbatch);\n",
    "        samples.row(i) = theta;\n",
    "    }\n",
    "    \n",
    "    return samples;      \n",
    "}        \n",
    "        \n",
    "PYBIND11_PLUGIN(wrap) {\n",
    "    py::module m(\"wrap\", \"pybind11 example plugin\");\n",
    "    m.def(\"gd\", &gd, \"The gradient descent fucntion.\");\n",
    "    m.def(\"logistic\", &logistic, \"The logistic function.\");\n",
    "    m.def(\"mvnorm\", &mvnorm, \"Random multivariate normal function\");\n",
    "    m.def(\"sghmc_opt\", &sghmc_opt, \"SGHMC\");\n",
    "    m.def(\"stogradU_logistic\", &stogradU_logistic, \"Logistic stochastic gradient\");\n",
    "    m.def(\"sghmc_opt_run\", &sghmc_opt_run, \"Wrapper for sghmc\");\n",
    "    m.def(\"pickSet\", &pickSet, \"Random sampling helper\");\n",
    "    m.def(\"pick\", &pick, \"Random sampling\");\n",
    "\n",
    "    return m.ptr();\n",
    "}"
   ]
  },
  {
   "cell_type": "code",
   "execution_count": 5,
   "metadata": {
    "collapsed": false
   },
   "outputs": [],
   "source": [
    "cppimport.force_rebuild() \n",
    "funcs = cppimport.imp(\"wrap\")"
   ]
  },
  {
   "cell_type": "code",
   "execution_count": 40,
   "metadata": {
    "collapsed": true
   },
   "outputs": [],
   "source": [
    "### Load data and set parameters\n",
    "\n",
    "pima = np.genfromtxt('pima-indians-diabetes.data', delimiter=',')\n",
    "# Load data\n",
    "X = np.concatenate((np.ones((pima.shape[0],1)),pima[:,0:8]), axis=1)\n",
    "Y = pima[:,8]\n",
    "\n",
    "Xs = (X - np.mean(X, axis=0))/np.concatenate((np.ones(1),np.std(X[:,1:], axis=0)))\n",
    "Xs = Xs[:,1:]\n",
    "\n",
    "n, q = Xs.shape\n",
    "\n",
    "# SGHMC - Scaled (no intercept)\n",
    "nsample = 1000\n",
    "m = 20\n",
    "eps = .002\n",
    "theta = np.zeros(q)\n",
    "phi = 5\n",
    "nbatch = 100\n",
    "C = 1 * np.identity(q)\n",
    "V = 0 * np.identity(q)\n",
    "M = np.identity(q)"
   ]
  },
  {
   "cell_type": "markdown",
   "metadata": {},
   "source": [
    "### pybind11"
   ]
  },
  {
   "cell_type": "markdown",
   "metadata": {},
   "source": [
    "prun:"
   ]
  },
  {
   "cell_type": "code",
   "execution_count": 41,
   "metadata": {
    "collapsed": false
   },
   "outputs": [
    {
     "name": "stdout",
     "output_type": "stream",
     "text": [
      " \n",
      "*** Profile stats marshalled to file 'work_pybind11.prof'. \n"
     ]
    }
   ],
   "source": [
    "%prun -q -D work_pybind11.prof  funcs.sghmc_opt_run(Y, Xs, M, eps, m, np.zeros(q), C, V, phi, nsample, nbatch)"
   ]
  },
  {
   "cell_type": "code",
   "execution_count": 42,
   "metadata": {
    "collapsed": false
   },
   "outputs": [
    {
     "name": "stdout",
     "output_type": "stream",
     "text": [
      "Mon May  1 19:07:35 2017    work_pybind11.prof\n",
      "\n",
      "         5 function calls in 0.744 seconds\n",
      "\n",
      "   Ordered by: internal time, cumulative time\n",
      "\n",
      "   ncalls  tottime  percall  cumtime  percall filename:lineno(function)\n",
      "        1    0.743    0.743    0.743    0.743 {built-in method wrap.sghmc_opt_run}\n",
      "        1    0.000    0.000    0.744    0.744 {built-in method builtins.exec}\n",
      "        1    0.000    0.000    0.743    0.743 <string>:1(<module>)\n",
      "        1    0.000    0.000    0.000    0.000 {built-in method numpy.core.multiarray.zeros}\n",
      "        1    0.000    0.000    0.000    0.000 {method 'disable' of '_lsprof.Profiler' objects}\n",
      "\n",
      "\n"
     ]
    }
   ],
   "source": [
    "import pstats\n",
    "p = pstats.Stats('work_pybind11.prof')\n",
    "p.sort_stats('time', 'cumulative').print_stats()\n",
    "pass"
   ]
  },
  {
   "cell_type": "markdown",
   "metadata": {},
   "source": [
    "timeit:"
   ]
  },
  {
   "cell_type": "code",
   "execution_count": 58,
   "metadata": {
    "collapsed": false
   },
   "outputs": [
    {
     "name": "stdout",
     "output_type": "stream",
     "text": [
      "10 loops, best of 3: 693 ms per loop\n"
     ]
    }
   ],
   "source": [
    "%timeit -n10 -r3 funcs.sghmc_opt_run(Y, Xs, M, eps, m, np.zeros(q), C, V, phi, nsample, nbatch)"
   ]
  },
  {
   "cell_type": "code",
   "execution_count": 56,
   "metadata": {
    "collapsed": false
   },
   "outputs": [
    {
     "name": "stdout",
     "output_type": "stream",
     "text": [
      "1000 loops, best of 10: 45.6 µs per loop\n"
     ]
    }
   ],
   "source": [
    "%timeit -n1000 -r10 funcs.stogradU_logistic(theta, Y, Xs, nbatch, phi)"
   ]
  },
  {
   "cell_type": "markdown",
   "metadata": {},
   "source": [
    "### Python"
   ]
  },
  {
   "cell_type": "markdown",
   "metadata": {},
   "source": [
    "prun:"
   ]
  },
  {
   "cell_type": "code",
   "execution_count": 46,
   "metadata": {
    "collapsed": false
   },
   "outputs": [
    {
     "name": "stdout",
     "output_type": "stream",
     "text": [
      " \n",
      "*** Profile stats marshalled to file 'work_python.prof'. \n"
     ]
    }
   ],
   "source": [
    "%prun -q -D work_python.prof sghmc.run_sghmc(Y, Xs, sghmc.U_logistic, sghmc.stogradU_logistic, M, eps, m, np.zeros(q), C, V, phi, nsample, nbatch)"
   ]
  },
  {
   "cell_type": "code",
   "execution_count": 47,
   "metadata": {
    "collapsed": false
   },
   "outputs": [
    {
     "name": "stdout",
     "output_type": "stream",
     "text": [
      "Mon May  1 19:08:06 2017    work_python.prof\n",
      "\n",
      "         1050191 function calls (1050190 primitive calls) in 5.865 seconds\n",
      "\n",
      "   Ordered by: internal time, cumulative time\n",
      "\n",
      "   ncalls  tottime  percall  cumtime  percall filename:lineno(function)\n",
      "    20000    0.988    0.000    1.395    0.000 {method 'choice' of 'mtrand.RandomState' objects}\n",
      "    21000    0.929    0.000    2.657    0.000 {method 'multivariate_normal' of 'mtrand.RandomState' objects}\n",
      "    20000    0.801    0.000    2.559    0.000 /home/jovyan/work/CokerAmitaiSGHMC/logistic_regression/sghmc.py:122(stogradU_logistic)\n",
      "    21000    0.760    0.000    1.217    0.000 /opt/conda/lib/python3.5/site-packages/numpy/linalg/linalg.py:1254(svd)\n",
      "     1000    0.450    0.000    5.859    0.006 /home/jovyan/work/CokerAmitaiSGHMC/logistic_regression/sghmc.py:145(sghmc)\n",
      "    64000    0.395    0.000    0.395    0.000 {method 'reduce' of 'numpy.ufunc' objects}\n",
      "    20000    0.280    0.000    0.280    0.000 /home/jovyan/work/CokerAmitaiSGHMC/logistic_regression/sghmc.py:3(logistic)\n",
      "    20000    0.148    0.000    0.334    0.000 /opt/conda/lib/python3.5/site-packages/numpy/core/fromnumeric.py:2433(prod)\n",
      "    63001    0.108    0.000    0.108    0.000 {method 'astype' of 'numpy.ndarray' objects}\n",
      "     1000    0.101    0.000    0.118    0.000 /home/jovyan/work/CokerAmitaiSGHMC/logistic_regression/sghmc.py:9(U_logistic)\n",
      "    23000    0.088    0.000    0.271    0.000 /opt/conda/lib/python3.5/site-packages/numpy/core/fromnumeric.py:1743(sum)\n",
      "    20000    0.083    0.000    0.083    0.000 {built-in method numpy.core.multiarray.arange}\n",
      "    21001    0.071    0.000    0.120    0.000 /opt/conda/lib/python3.5/site-packages/numpy/linalg/linalg.py:139(_commonType)\n",
      "    21003    0.062    0.000    0.062    0.000 {built-in method numpy.core.multiarray.zeros}\n",
      "    40000    0.061    0.000    0.061    0.000 /opt/conda/lib/python3.5/site-packages/numpy/core/_internal.py:227(__init__)\n",
      "    21000    0.046    0.000    0.191    0.000 /opt/conda/lib/python3.5/site-packages/numpy/core/fromnumeric.py:1900(any)\n",
      "    21006    0.042    0.000    0.042    0.000 {built-in method builtins.hasattr}\n",
      "    21001    0.040    0.000    0.086    0.000 /opt/conda/lib/python3.5/site-packages/numpy/linalg/linalg.py:106(_makearray)\n",
      "    21001    0.037    0.000    0.037    0.000 /opt/conda/lib/python3.5/site-packages/numpy/linalg/linalg.py:101(get_linalg_error_extobj)\n",
      "    42001    0.031    0.000    0.047    0.000 /opt/conda/lib/python3.5/site-packages/numpy/linalg/linalg.py:124(_realType)\n",
      "    21001    0.029    0.000    0.038    0.000 /opt/conda/lib/python3.5/site-packages/numpy/core/numeric.py:414(asarray)\n",
      "    21000    0.027    0.000    0.027    0.000 /opt/conda/lib/python3.5/site-packages/numpy/linalg/linalg.py:219(_assertNoEmpty2d)\n",
      "    21000    0.025    0.000    0.035    0.000 /opt/conda/lib/python3.5/site-packages/numpy/core/numeric.py:484(asanyarray)\n",
      "    42002    0.024    0.000    0.033    0.000 /opt/conda/lib/python3.5/site-packages/numpy/linalg/linalg.py:111(isComplexType)\n",
      "    21001    0.023    0.000    0.031    0.000 /opt/conda/lib/python3.5/site-packages/numpy/linalg/linalg.py:198(_assertRankAtLeast2)\n",
      "    21000    0.022    0.000    0.110    0.000 {method 'any' of 'numpy.ndarray' objects}\n",
      "    21002    0.022    0.000    0.064    0.000 <frozen importlib._bootstrap>:996(_handle_fromlist)\n",
      "    42001    0.019    0.000    0.019    0.000 {built-in method numpy.core.multiarray.array}\n",
      "    23000    0.017    0.000    0.166    0.000 /opt/conda/lib/python3.5/site-packages/numpy/core/_methods.py:31(_sum)\n",
      "    23002    0.017    0.000    0.017    0.000 {built-in method builtins.isinstance}\n",
      "    42001    0.016    0.000    0.016    0.000 {method 'get' of 'dict' objects}\n",
      "    63003    0.015    0.000    0.015    0.000 {built-in method builtins.issubclass}\n",
      "    20000    0.014    0.000    0.186    0.000 /opt/conda/lib/python3.5/site-packages/numpy/core/_methods.py:34(_prod)\n",
      "    21000    0.013    0.000    0.088    0.000 /opt/conda/lib/python3.5/site-packages/numpy/core/_methods.py:37(_any)\n",
      "    20000    0.012    0.000    0.012    0.000 {method 'ravel' of 'numpy.ndarray' objects}\n",
      "    40000    0.012    0.000    0.012    0.000 /opt/conda/lib/python3.5/site-packages/numpy/core/_internal.py:252(get_data)\n",
      "    42001    0.009    0.000    0.009    0.000 {method '__array_prepare__' of 'numpy.ndarray' objects}\n",
      "    21007    0.008    0.000    0.008    0.000 {built-in method builtins.getattr}\n",
      "    21005    0.008    0.000    0.008    0.000 {built-in method builtins.len}\n",
      "        1    0.004    0.004    5.865    5.865 /home/jovyan/work/CokerAmitaiSGHMC/logistic_regression/sghmc.py:185(run_sghmc)\n",
      "        1    0.001    0.001    0.002    0.002 /opt/conda/lib/python3.5/site-packages/numpy/linalg/linalg.py:458(inv)\n",
      "     1000    0.001    0.000    0.002    0.000 /opt/conda/lib/python3.5/site-packages/numpy/lib/type_check.py:432(asscalar)\n",
      "     1000    0.001    0.000    0.001    0.000 {method 'item' of 'numpy.ndarray' objects}\n",
      "        3    0.000    0.000    0.000    0.000 {built-in method posix.stat}\n",
      "        1    0.000    0.000    0.000    0.000 <frozen importlib._bootstrap_external>:816(get_data)\n",
      "      2/1    0.000    0.000    5.865    5.865 {built-in method builtins.exec}\n",
      "        1    0.000    0.000    0.000    0.000 {built-in method marshal.loads}\n",
      "        2    0.000    0.000    0.000    0.000 <frozen importlib._bootstrap_external>:246(cache_from_source)\n",
      "        1    0.000    0.000    0.000    0.000 /opt/conda/lib/python3.5/site-packages/numpy/dual.py:12(<module>)\n",
      "        1    0.000    0.000    0.000    0.000 <frozen importlib._bootstrap_external>:1215(find_spec)\n",
      "        1    0.000    0.000    0.000    0.000 <frozen importlib._bootstrap>:879(_find_spec)\n",
      "        1    0.000    0.000    0.000    0.000 <frozen importlib._bootstrap_external>:729(get_code)\n",
      "        1    0.000    0.000    5.865    5.865 <string>:1(<module>)\n",
      "        1    0.000    0.000    0.000    0.000 <frozen importlib._bootstrap>:659(_load_unlocked)\n",
      "        6    0.000    0.000    0.000    0.000 <frozen importlib._bootstrap_external>:50(_path_join)\n",
      "        1    0.000    0.000    0.000    0.000 <frozen importlib._bootstrap_external>:1101(_get_spec)\n",
      "        6    0.000    0.000    0.000    0.000 <frozen importlib._bootstrap_external>:52(<listcomp>)\n",
      "        1    0.000    0.000    0.001    0.001 <frozen importlib._bootstrap>:966(_find_and_load)\n",
      "        1    0.000    0.000    0.000    0.000 <frozen importlib._bootstrap>:510(_init_module_attrs)\n",
      "        1    0.000    0.000    0.001    0.001 <frozen importlib._bootstrap>:939(_find_and_load_unlocked)\n",
      "        1    0.000    0.000    0.000    0.000 <frozen importlib._bootstrap_external>:474(_compile_bytecode)\n",
      "        1    0.000    0.000    0.000    0.000 <frozen importlib._bootstrap_external>:419(_validate_bytecode_header)\n",
      "        1    0.000    0.000    0.000    0.000 <frozen importlib._bootstrap>:176(_get_module_lock)\n",
      "        1    0.000    0.000    0.000    0.000 {method 'read' of '_io.FileIO' objects}\n",
      "        1    0.000    0.000    0.000    0.000 <frozen importlib._bootstrap_external>:659(exec_module)\n",
      "        1    0.000    0.000    0.000    0.000 <frozen importlib._bootstrap>:570(module_from_spec)\n",
      "        1    0.000    0.000    0.000    0.000 <frozen importlib._bootstrap>:321(__exit__)\n",
      "        1    0.000    0.000    0.000    0.000 <frozen importlib._bootstrap>:74(__init__)\n",
      "        1    0.000    0.000    0.000    0.000 <frozen importlib._bootstrap_external>:342(_get_cached)\n",
      "        1    0.000    0.000    0.000    0.000 <frozen importlib._bootstrap>:163(__enter__)\n",
      "        1    0.000    0.000    0.000    0.000 <frozen importlib._bootstrap_external>:1210(_get_spec)\n",
      "        1    0.000    0.000    0.000    0.000 <frozen importlib._bootstrap_external>:513(spec_from_file_location)\n",
      "        1    0.000    0.000    0.000    0.000 <frozen importlib._bootstrap>:94(acquire)\n",
      "        1    0.000    0.000    0.000    0.000 <frozen importlib._bootstrap>:119(release)\n",
      "        1    0.000    0.000    0.000    0.000 /opt/conda/lib/python3.5/site-packages/numpy/linalg/linalg.py:209(_assertNdSquareness)\n",
      "        8    0.000    0.000    0.000    0.000 {method 'rpartition' of 'str' objects}\n",
      "        3    0.000    0.000    0.000    0.000 <frozen importlib._bootstrap_external>:68(_path_stat)\n",
      "        2    0.000    0.000    0.000    0.000 <frozen importlib._bootstrap>:406(cached)\n",
      "        2    0.000    0.000    0.000    0.000 <frozen importlib._bootstrap_external>:45(_r_long)\n",
      "       14    0.000    0.000    0.000    0.000 {method 'rstrip' of 'str' objects}\n",
      "        8    0.000    0.000    0.000    0.000 {method 'join' of 'str' objects}\n",
      "        1    0.000    0.000    0.000    0.000 {built-in method builtins.setattr}\n",
      "        1    0.000    0.000    0.000    0.000 <frozen importlib._bootstrap_external>:87(_path_isfile)\n",
      "        1    0.000    0.000    0.000    0.000 <frozen importlib._bootstrap_external>:78(_path_is_mode_type)\n",
      "        1    0.000    0.000    0.000    0.000 <frozen importlib._bootstrap_external>:826(path_stats)\n",
      "        1    0.000    0.000    0.000    0.000 <frozen importlib._bootstrap>:789(find_spec)\n",
      "        1    0.000    0.000    0.000    0.000 {built-in method builtins.any}\n",
      "        1    0.000    0.000    0.000    0.000 <frozen importlib._bootstrap>:35(_new_module)\n",
      "        4    0.000    0.000    0.000    0.000 {method 'format' of 'str' objects}\n",
      "        1    0.000    0.000    0.000    0.000 <frozen importlib._bootstrap>:314(__enter__)\n",
      "        6    0.000    0.000    0.000    0.000 <frozen importlib._bootstrap_external>:366(_verbose_message)\n",
      "        3    0.000    0.000    0.000    0.000 <frozen importlib._bootstrap>:852(__enter__)\n",
      "        1    0.000    0.000    0.000    0.000 <frozen importlib._bootstrap_external>:1133(find_spec)\n",
      "        2    0.000    0.000    0.000    0.000 <frozen importlib._bootstrap_external>:56(_path_split)\n",
      "        1    0.000    0.000    0.000    0.000 <frozen importlib._bootstrap_external>:382(_check_name_wrapper)\n",
      "        3    0.000    0.000    0.000    0.000 <frozen importlib._bootstrap>:856(__exit__)\n",
      "        2    0.000    0.000    0.000    0.000 {built-in method from_bytes}\n",
      "        1    0.000    0.000    0.000    0.000 <frozen importlib._bootstrap>:372(__init__)\n",
      "        1    0.000    0.000    0.000    0.000 <frozen importlib._bootstrap_external>:786(__init__)\n",
      "        1    0.000    0.000    0.000    0.000 <frozen importlib._bootstrap>:159(__init__)\n",
      "        4    0.000    0.000    0.000    0.000 {built-in method _imp.release_lock}\n",
      "        1    0.000    0.000    0.000    0.000 <frozen importlib._bootstrap>:310(__init__)\n",
      "        1    0.000    0.000    0.000    0.000 <frozen importlib._bootstrap>:214(_call_with_frames_removed)\n",
      "        1    0.000    0.000    0.000    0.000 <frozen importlib._bootstrap>:170(__exit__)\n",
      "        1    0.000    0.000    0.000    0.000 <frozen importlib._bootstrap>:419(parent)\n",
      "        1    0.000    0.000    0.000    0.000 <frozen importlib._bootstrap>:427(has_location)\n",
      "        4    0.000    0.000    0.000    0.000 <frozen importlib._bootstrap>:324(<genexpr>)\n",
      "        1    0.000    0.000    0.000    0.000 {built-in method _imp.is_frozen}\n",
      "        1    0.000    0.000    0.000    0.000 <frozen importlib._bootstrap>:716(find_spec)\n",
      "        1    0.000    0.000    0.000    0.000 {method 'disable' of '_lsprof.Profiler' objects}\n",
      "        1    0.000    0.000    0.000    0.000 {built-in method _imp._fix_co_filename}\n",
      "        1    0.000    0.000    0.000    0.000 {method 'endswith' of 'str' objects}\n",
      "        1    0.000    0.000    0.000    0.000 {built-in method builtins.max}\n",
      "        1    0.000    0.000    0.000    0.000 <frozen importlib._bootstrap>:190(cb)\n",
      "        1    0.000    0.000    0.000    0.000 <frozen importlib._bootstrap_external>:811(get_filename)\n",
      "        1    0.000    0.000    0.000    0.000 <frozen importlib._bootstrap_external>:1064(_path_importer_cache)\n",
      "        1    0.000    0.000    0.000    0.000 <frozen importlib._bootstrap_external>:34(_relax_case)\n",
      "        1    0.000    0.000    0.000    0.000 <frozen importlib._bootstrap>:225(_verbose_message)\n",
      "        1    0.000    0.000    0.000    0.000 <frozen importlib._bootstrap_external>:656(create_module)\n",
      "        1    0.000    0.000    0.000    0.000 {built-in method builtins.min}\n",
      "        2    0.000    0.000    0.000    0.000 {built-in method _thread.allocate_lock}\n",
      "        2    0.000    0.000    0.000    0.000 {built-in method _thread.get_ident}\n",
      "        3    0.000    0.000    0.000    0.000 {built-in method _imp.acquire_lock}\n",
      "\n",
      "\n"
     ]
    }
   ],
   "source": [
    "import pstats\n",
    "p = pstats.Stats('work_python.prof')\n",
    "p.sort_stats('time', 'cumulative').print_stats()\n",
    "pass"
   ]
  },
  {
   "cell_type": "markdown",
   "metadata": {},
   "source": [
    "timeit:"
   ]
  },
  {
   "cell_type": "code",
   "execution_count": 54,
   "metadata": {
    "collapsed": false
   },
   "outputs": [
    {
     "name": "stdout",
     "output_type": "stream",
     "text": [
      "1000 loops, best of 10: 97.9 µs per loop\n"
     ]
    }
   ],
   "source": [
    "%timeit -n1000 -r10 sghmc.stogradU_logistic(theta, Y, Xs, nbatch, phi)"
   ]
  },
  {
   "cell_type": "code",
   "execution_count": 55,
   "metadata": {
    "collapsed": false
   },
   "outputs": [
    {
     "name": "stdout",
     "output_type": "stream",
     "text": [
      "10 loops, best of 3: 5.12 s per loop\n"
     ]
    }
   ],
   "source": [
    "%timeit -n5 -r3 sghmc.run_sghmc(Y, Xs, sghmc.U_logistic, sghmc.stogradU_logistic, M, eps, m, np.zeros(q), C, V, phi, nsample, nbatch)"
   ]
  },
  {
   "cell_type": "code",
   "execution_count": null,
   "metadata": {
    "collapsed": true
   },
   "outputs": [],
   "source": []
  }
 ],
 "metadata": {
  "kernelspec": {
   "display_name": "Python 3",
   "language": "python",
   "name": "python3"
  },
  "language_info": {
   "codemirror_mode": {
    "name": "ipython",
    "version": 3
   },
   "file_extension": ".py",
   "mimetype": "text/x-python",
   "name": "python",
   "nbconvert_exporter": "python",
   "pygments_lexer": "ipython3",
   "version": "3.5.2"
  }
 },
 "nbformat": 4,
 "nbformat_minor": 2
}
