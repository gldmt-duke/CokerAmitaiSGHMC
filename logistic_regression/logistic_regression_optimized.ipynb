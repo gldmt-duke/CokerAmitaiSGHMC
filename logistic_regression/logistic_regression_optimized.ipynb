{
 "cells": [
  {
   "cell_type": "markdown",
   "metadata": {},
   "source": [
    "Here is the library of functions:"
   ]
  },
  {
   "cell_type": "code",
   "execution_count": 12,
   "metadata": {
    "collapsed": false
   },
   "outputs": [],
   "source": [
    "def logistic(x):\n",
    "    '''\n",
    "    '''\n",
    "    return 1/(1+np.exp(-x))\n",
    "\n",
    "def U_logistic(theta, Y, X, phi):\n",
    "    '''\n",
    "    '''\n",
    "    return - (Y.T @ X @ theta - np.sum(np.log(1+np.exp(X @ theta))) - 0.5 * phi * np.sum(theta**2))\n",
    "\n",
    "def gradU_logistic(theta, Y, X, phi):\n",
    "    '''\n",
    "    '''\n",
    "    n = X.shape[0]\n",
    "    \n",
    "    Y_pred = logistic(X @ theta)\n",
    "    epsilon = (Y[:,np.newaxis] - Y_pred[:,np.newaxis])\n",
    "    grad = X.T @ epsilon - phi * theta[:, np.newaxis]\n",
    "\n",
    "    return -grad/n\n",
    "\n",
    "\n",
    "def hmc(Y, X, U, gradU, M, eps, m, theta0, phi):\n",
    "    '''\n",
    "    '''\n",
    "    theta = theta0.copy()\n",
    "    n, p = X.shape\n",
    "    \n",
    "    # Precompute\n",
    "    Minv = np.linalg.inv(M)\n",
    "    \n",
    "    # Randomly sample momentum\n",
    "    r = np.random.multivariate_normal(np.zeros(p),M)[:,np.newaxis]\n",
    "    \n",
    "    # Intial energy\n",
    "    H0 = U(theta0, Y, X, phi) + 0.5 * np.asscalar(r.T @ Minv @ r)\n",
    "    \n",
    "    # Hamiltonian dynamics\n",
    "    r -= (eps/2)*gradU(theta, Y, X, phi)\n",
    "    for i in range(m):\n",
    "        theta += (eps*Minv@r).ravel()\n",
    "        r -= eps*gradU(theta, Y, X, phi)\n",
    "    r -= (eps/2)*gradU(theta, Y, X, phi)\n",
    "    \n",
    "    # Final energy\n",
    "    H1 = U(theta, Y, X, phi) + np.asscalar(0.5 * r.T @ Minv @ r)\n",
    "    \n",
    "    # MH step\n",
    "    u = np.random.uniform()\n",
    "    rho = np.exp(H0 - H1) # Acceptance probability\n",
    "    \n",
    "    if u < np.min((1, rho)):\n",
    "        # accept\n",
    "        accept = True\n",
    "        H = H1\n",
    "    else:\n",
    "        # reject\n",
    "        theta = theta0\n",
    "        accept = False\n",
    "        H = H0\n",
    "\n",
    "    return theta, accept, rho, H\n",
    "\n",
    "\n",
    "def run_hmc(Y, X, U, gradU, M, eps, m, theta, phi, nsample):\n",
    "\n",
    "    n, p = X.shape\n",
    "    \n",
    "    # Allocate space\n",
    "    samples = np.zeros((nsample, p))\n",
    "    accept = np.zeros(nsample)\n",
    "    rho = np.zeros(nsample)\n",
    "    H = np.zeros(nsample)\n",
    "    \n",
    "    # Run hmc\n",
    "    for i in range(nsample):\n",
    "        theta, accept[i], rho[i], H[i] = hmc(Y, X, U, gradU, M, eps, m, theta, phi)\n",
    "        samples[i] = theta\n",
    "        \n",
    "    return samples, accept, rho, H  \n",
    "\n",
    "def stogradU(theta, Y, X, nbatch, phi):\n",
    "    '''A function that returns the stochastic gradient. Adapted from Eq. 5.\n",
    "    Inputs are:\n",
    "        theta, the parameters\n",
    "        Y, the response\n",
    "        X, the covariates\n",
    "        nbatch, the number of samples to take from the full data\n",
    "    '''\n",
    "    n, p = X.shape\n",
    "    \n",
    "    # Sample minibatch\n",
    "    batch_id = np.random.choice(np.arange(n),nbatch,replace=False)\n",
    "    \n",
    "    Y_pred = logistic(X[batch_id,:] @ theta[:,np.newaxis])\n",
    "    epsilon = (Y[batch_id,np.newaxis] - Y_pred)\n",
    "    grad = n/nbatch * X[batch_id,:].T @ epsilon - phi * theta[:, np.newaxis]\n",
    "\n",
    "    #return -grad/n\n",
    "    return -grad\n",
    "\n",
    "def sghmc(Y, X, U, gradU, M, Minv, eps, m, theta, B, D, phi):\n",
    "    \n",
    "    n, p = X.shape\n",
    "    \n",
    "    # Randomly sample momentum\n",
    "    r = np.random.multivariate_normal(np.zeros(p),M)[:,np.newaxis]\n",
    "    #r = np.zeros((p,1))\n",
    "    \n",
    "    # Hamiltonian dynamics\n",
    "    for i in range(m): \n",
    "        theta += (eps*Minv@r).ravel()\n",
    "        r -= eps*stogradU(theta, Y, X, nbatch,phi) - eps*C @ Minv @ r \\\n",
    "            + np.random.multivariate_normal(np.zeros(p),D)[:,np.newaxis] \n",
    "    \n",
    "    # Record the energy\n",
    "    H = U(theta, Y, X, phi) + np.asscalar(0.5 * r.T @ Minv @ r)\n",
    "    \n",
    "    return theta, H\n",
    "\n",
    "def run_sghmc(Y, X, U, gradU, M, eps, m, theta, C, V, phi, nsample):\n",
    "    n, p = X.shape\n",
    "    \n",
    "    # Precompute\n",
    "    Minv = np.linalg.inv(M)\n",
    "    B = 0.5 * V * eps\n",
    "    D = 2*(C-B)*eps\n",
    "    \n",
    "    # Allocate space\n",
    "    samples = np.zeros((nsample, p))\n",
    "    H = np.zeros(nsample)\n",
    "    \n",
    "    # Run sghmc\n",
    "    for i in range(nsample):\n",
    "        theta, H[i] = sghmc(Y, X, U, gradU, M, Minv, eps, m, theta, B, D, phi)\n",
    "        samples[i] = theta\n",
    "        \n",
    "    return samples, H\n",
    "    \n",
    "    \n",
    "def gd(Y, X, gradU, eps, m, theta, phi):\n",
    "    '''\n",
    "    '''\n",
    "    samples = np.zeros((nsample, p))\n",
    "    \n",
    "    for i in range(m):\n",
    "        theta -= eps*gradU(theta, Y, X, phi).ravel()\n",
    "      \n",
    "    return theta     "
   ]
  },
  {
   "cell_type": "code",
   "execution_count": 2,
   "metadata": {
    "collapsed": false
   },
   "outputs": [],
   "source": [
    "import os\n",
    "if not os.path.exists('./eigen'):\n",
    "    ! git clone https://github.com/RLovelett/eigen.git"
   ]
  },
  {
   "cell_type": "code",
   "execution_count": 20,
   "metadata": {
    "collapsed": true
   },
   "outputs": [],
   "source": [
    "import cppimport\n",
    "import numpy as np\n",
    "import matplotlib.pyplot as plt"
   ]
  },
  {
   "cell_type": "code",
   "execution_count": 1,
   "metadata": {
    "collapsed": false
   },
   "outputs": [
    {
     "name": "stdout",
     "output_type": "stream",
     "text": [
      "Overwriting wrap.cpp\n"
     ]
    }
   ],
   "source": [
    "%%file wrap.cpp\n",
    "<%\n",
    "cfg['compiler_args'] = ['-std=c++11']\n",
    "cfg['include_dirs'] = ['./eigen']\n",
    "setup_pybind11(cfg)\n",
    "%>\n",
    "\n",
    "#include <pybind11/pybind11.h>\n",
    "#include <pybind11/numpy.h>\n",
    "#include <pybind11/eigen.h>\n",
    "#include <Eigen/Cholesky>\n",
    "\n",
    "#include <random>\n",
    "#include <algorithm>\n",
    "#include <iterator>\n",
    "#include <iostream>\n",
    "\n",
    "namespace py = pybind11;\n",
    "\n",
    "Eigen::VectorXd logistic(Eigen::VectorXd x) {\n",
    "    return 1.0/(1.0 + exp((-x).array()));\n",
    "}\n",
    "\n",
    "Eigen::VectorXd gd(Eigen::MatrixXd X, Eigen::VectorXd y, Eigen::VectorXd beta, double alpha, int niter) {\n",
    "    int n = X.rows();\n",
    "    \n",
    "    Eigen::VectorXd y_pred;\n",
    "    Eigen::VectorXd resid;\n",
    "    Eigen::VectorXd grad;\n",
    "    Eigen::MatrixXd Xt = X.transpose();\n",
    "            \n",
    "    for (int i=0; i<niter; i++) {\n",
    "        y_pred = logistic(X * beta);\n",
    "        resid = y - y_pred;\n",
    "        grad = Xt * resid / n;\n",
    "        beta = beta + alpha * grad;\n",
    "    }\n",
    "    return beta;\n",
    "}\n",
    "   \n",
    "Eigen::MatrixXd mvnorm(Eigen::VectorXd mu, Eigen::MatrixXd Sigma, int n) {\n",
    "    //std::default_random_engine gen;\n",
    "    std::default_random_engine gen(std::random_device{}());\n",
    "    std::normal_distribution<double> distribution(0, 1);    \n",
    "    \n",
    "    Eigen::MatrixXd A(Sigma.llt().matrixL());\n",
    "    int p = mu.size();\n",
    "    Eigen::MatrixXd Z(n,p);  \n",
    "            \n",
    "    for(int i=0; i<n; i++) {\n",
    "        Eigen::VectorXd v(p);\n",
    "        for(int j=0; j<p; j++){\n",
    "            v[j] = distribution(gen);\n",
    "        }\n",
    "        Z.row(i) = mu + A*v;\n",
    "    }\n",
    "    return Z;          \n",
    "}\n",
    "    \n",
    "    \n",
    "    \n",
    "/*    \n",
    "std::unordered_set<int> pickSet(int N, int k, std::mt19937& gen)\n",
    "{\n",
    "    std::uniform_int_distribution<> dis(1, N);\n",
    "    std::unordered_set<int> elems;\n",
    "\n",
    "    while (elems.size() < k) {\n",
    "        elems.insert(dis(gen));\n",
    "    }\n",
    "\n",
    "    return elems;\n",
    "} \n",
    "*/\n",
    "\n",
    "/*\n",
    "std::unordered_set<int> pickSet(int N, int k, std::mt19937& gen)\n",
    "{\n",
    "    std::unordered_set<int> elems;\n",
    "    for (int r = N - k; r < N; ++r) {\n",
    "        int v = std::uniform_int_distribution<>(1, r)(gen);\n",
    "\n",
    "        // there are two cases.\n",
    "        // v is not in candidates ==> add it\n",
    "        // v is in candidates ==> well, r is definitely not, because\n",
    "        // this is the first iteration in the loop that we could've\n",
    "        // picked something that big.\n",
    "\n",
    "        if (!elems.insert(v).second) {\n",
    "            elems.insert(r);\n",
    "        }   \n",
    "    }\n",
    "    return elems;\n",
    "}\n",
    "*/\n",
    "\n",
    "std::unordered_set<int> pickSet(int N, int k, std::mt19937& gen)\n",
    "{\n",
    "    // Index of random rows to take.\n",
    "    std::unordered_set<int> sample;\n",
    "    std::default_random_engine generator;\n",
    "\n",
    "    for(int d = N - k; d < N; d++) {\n",
    "        int t = std::uniform_int_distribution<>(0, d)(generator);\n",
    "        if (sample.find(t) == sample.end()) {\n",
    "            sample.insert(t);\n",
    "        } else {\n",
    "            sample.insert(d);\n",
    "        }\n",
    "    }\n",
    "    return sample;\n",
    "}\n",
    "\n",
    "\n",
    "std::vector<int> pick(int N, int k) {\n",
    "    std::random_device rd;\n",
    "    std::mt19937 gen(rd());\n",
    "\n",
    "    std::unordered_set<int> elems = pickSet(N, k, gen);\n",
    "\n",
    "    // ok, now we have a set of k elements. but now\n",
    "    // it's in a [unknown] deterministic order.\n",
    "    // so we have to shuffle it:\n",
    "\n",
    "    //std::vector<int> result(vals.begin(), vals.end());\n",
    "    std::vector<int> result(elems.begin(), elems.end());\n",
    "    std::shuffle(result.begin(), result.end(), gen);\n",
    "    return result;\n",
    "}\n",
    "    \n",
    "    \n",
    "    \n",
    "    \n",
    "    \n",
    "\n",
    "/*\n",
    "Eigen::VectorXd stogradU_logistic(Eigen::VectorXd theta, Eigen::VectorXd Y, Eigen::MatrixXd X, int nbatch, double phi) {\n",
    "    // currently this does no random sampling\n",
    "    int n = X.rows();            \n",
    "                \n",
    "    Eigen::VectorXd Y_pred;\n",
    "    Eigen::VectorXd epsilon;\n",
    "    Eigen::VectorXd grad;\n",
    "    Eigen::MatrixXd Xt = X.transpose();\n",
    "                \n",
    "    Y_pred = logistic(X * theta);\n",
    "    epsilon = Y - Y_pred;\n",
    "    grad = n/nbatch * Xt * epsilon - phi * theta;\n",
    "\n",
    "    return -grad;\n",
    "}\n",
    "*/\n",
    "\n",
    "Eigen::VectorXd stogradU_logistic(Eigen::VectorXd theta, Eigen::VectorXd Y, Eigen::MatrixXd X, int nbatch, double phi) {\n",
    "    // currently this does no random sampling\n",
    "    int n = X.rows();\n",
    "    int p = X.cols();\n",
    "    \n",
    "    // Allocate\n",
    "    Eigen::MatrixXd Xsamp = Eigen::MatrixXd::Zero( nbatch, p ); \n",
    "    Eigen::VectorXd Ysamp = Eigen::VectorXd::Zero( nbatch );            \n",
    "    Eigen::VectorXd Y_pred;\n",
    "    Eigen::VectorXd epsilon;\n",
    "    Eigen::VectorXd grad;\n",
    "            \n",
    "    std::vector<int> r = pick(n, nbatch);\n",
    "            \n",
    "    for(int i=0; i<nbatch; i++) {\n",
    "        Xsamp.row(i) = X.row(r[i]-1);\n",
    "        Ysamp.row(i) = Y.row(r[i]-1);\n",
    "    }        \n",
    "            \n",
    "            \n",
    "    Eigen::MatrixXd Xsampt = Xsamp.transpose();\n",
    "                \n",
    "    Y_pred = logistic(Xsamp * theta);\n",
    "    epsilon = Ysamp - Y_pred;\n",
    "    grad = n/nbatch * Xsampt * epsilon - phi * theta;\n",
    "\n",
    "    return -grad;\n",
    "}\n",
    "        \n",
    "Eigen::VectorXd sghmc_opt(Eigen::VectorXd Y, Eigen::MatrixXd X, Eigen::MatrixXd M, Eigen::MatrixXd Minv, double eps, int m, Eigen::VectorXd theta, Eigen::MatrixXd C, Eigen::MatrixXd B, Eigen::MatrixXd D, double phi, int nbatch) {\n",
    "                \n",
    "    // What do we do with the gradient and the U? I think we'll have to fix it with logistic...\n",
    "     \n",
    "    int n = X.rows();\n",
    "    int p = X.cols();\n",
    "    Eigen::VectorXd sgrad;\n",
    "    Eigen::VectorXd noise;            \n",
    "    \n",
    "    // Randomly sample momentum\n",
    "    Eigen::VectorXd mu = Eigen::VectorXd::Zero( p );       \n",
    "    Eigen::VectorXd r = mvnorm(mu,M,1).row(0);\n",
    "    //Eigen::MatrixXd r = Eigen::VectorXd::Zero( p, p );   \n",
    "    \n",
    "       \n",
    "    for(int i=0; i<m; i++) {\n",
    "        theta = theta + eps * Minv * r;\n",
    "                    \n",
    "        sgrad = stogradU_logistic(theta, Y, X, nbatch, phi);\n",
    "        noise = mvnorm(mu,D,1).row(0);\n",
    "        r = r - eps*sgrad - eps*C*Minv*r + noise;\n",
    "    }        \n",
    "\n",
    "    return theta;\n",
    "\n",
    "}              \n",
    "\n",
    "Eigen::MatrixXd sghmc_opt_run(Eigen::VectorXd Y, Eigen::MatrixXd X, Eigen::MatrixXd M, double eps, int m, Eigen::VectorXd theta, Eigen::MatrixXd C, Eigen::MatrixXd V, double phi, int nsample, int nbatch) {\n",
    "  \n",
    "    int n = X.rows();\n",
    "    int p = X.cols();  \n",
    "    \n",
    "    // Precompute        \n",
    "    //Eigen::MatrixXd Minv(M.llt().matrixL());  \n",
    "    //Eigen::MatrixXd Minv(M.inverse());\n",
    "    Eigen::MatrixXd Minv = M;        \n",
    "            \n",
    "    Eigen::MatrixXd B = 0.5 * V * eps;\n",
    "    Eigen::MatrixXd D = 2*(C-B)*eps;\n",
    "    \n",
    "    //Allocate        \n",
    "    Eigen::MatrixXd samples(nsample,p);        \n",
    "            \n",
    "    for(int i=0; i<nsample; i++) {\n",
    "        theta = sghmc_opt(Y, X, M, Minv, eps, m, theta, C, B, D, phi, nbatch);\n",
    "        samples.row(i) = theta;\n",
    "    }\n",
    "    \n",
    "    return samples;      \n",
    "}        \n",
    "\n",
    "/*    \n",
    "Eigen::MatrixXd test(Eigen::MatrixXd X, int n, int nbatch){\n",
    "    int p = X.cols();\n",
    "            \n",
    "    Eigen::MatrixXd Xsamp = Eigen::MatrixXd::Zero( nbatch, p );           \n",
    "    std::vector<int> r = pick(n, nbatch);\n",
    "            \n",
    "    for(int i=0; i<nbatch; i++) {\n",
    "        Xsamp.row(i) = X.row(r[i]-1);\n",
    "    }\n",
    "            \n",
    "    return Xsamp;\n",
    "       \n",
    "} \n",
    "*/\n",
    "\n",
    "Eigen::VectorXd test(Eigen::VectorXd Y, int n, int nbatch){\n",
    "    //int p = X.cols();\n",
    "            \n",
    "    Eigen::VectorXd Ysamp = Eigen::VectorXd::Zero( nbatch );           \n",
    "    std::vector<int> r = pick(n, nbatch);\n",
    "            \n",
    "    for(int i=0; i<nbatch; i++) {\n",
    "        Ysamp(i) = r[i];\n",
    "    }\n",
    "            \n",
    "    return Ysamp;\n",
    "       \n",
    "}   \n",
    "        \n",
    "PYBIND11_PLUGIN(wrap) {\n",
    "    py::module m(\"wrap\", \"pybind11 example plugin\");\n",
    "    m.def(\"gd\", &gd, \"The gradient descent fucntion.\");\n",
    "    m.def(\"logistic\", &logistic, \"The logistic fucntion.\");\n",
    "    m.def(\"mvnorm\", &mvnorm, \"Random multivariate normal function\");\n",
    "    m.def(\"sghmc_opt\", &sghmc_opt, \"SGHMC\");\n",
    "    m.def(\"stogradU_logistic\", &stogradU_logistic, \"Test\");\n",
    "    m.def(\"sghmc_opt_run\", &sghmc_opt_run, \"Test2\");\n",
    "    m.def(\"test\", &test, \"testtest\");\n",
    "    m.def(\"pickSet\", &pickSet, \"sdfsf\");\n",
    "    m.def(\"pick\", &pick, \"pickd\");\n",
    "\n",
    "    return m.ptr();\n",
    "}"
   ]
  },
  {
   "cell_type": "code",
   "execution_count": 2,
   "metadata": {
    "collapsed": true
   },
   "outputs": [],
   "source": [
    "import cppimport\n",
    "import numpy as np"
   ]
  },
  {
   "cell_type": "code",
   "execution_count": 3,
   "metadata": {
    "collapsed": false
   },
   "outputs": [],
   "source": [
    "cppimport.force_rebuild() \n",
    "funcs = cppimport.imp(\"wrap\")"
   ]
  },
  {
   "cell_type": "code",
   "execution_count": 42,
   "metadata": {
    "collapsed": true
   },
   "outputs": [],
   "source": [
    "### Load data and set parameters\n",
    "\n",
    "pima = np.genfromtxt('pima-indians-diabetes.data', delimiter=',')\n",
    "# Load data\n",
    "X = np.concatenate((np.ones((pima.shape[0],1)),pima[:,0:8]), axis=1)\n",
    "Y = pima[:,8]\n",
    "\n",
    "Xs = (X - np.mean(X, axis=0))/np.concatenate((np.ones(1),np.std(X[:,1:], axis=0)))\n",
    "Xs = Xs[:,1:]\n",
    "\n",
    "n, p = Xs.shape\n",
    "\n",
    "# HMC - Scaled (no intercept)\n",
    "nsample = 10000\n",
    "m = 20\n",
    "eps = .002\n",
    "theta = np.zeros(p)\n",
    "#theta = beta_true_scale.copy()\n",
    "phi = 5\n",
    "nbatch = 100\n",
    "C = 0 * np.identity(p)\n",
    "V = 0 * np.identity(p)\n",
    "M = np.identity(p)"
   ]
  },
  {
   "cell_type": "markdown",
   "metadata": {},
   "source": [
    "### pybind11"
   ]
  },
  {
   "cell_type": "code",
   "execution_count": 16,
   "metadata": {
    "collapsed": false
   },
   "outputs": [],
   "source": [
    "#funcs.sghmc_opt_run(Y, Xs, M, eps, m, np.zeros(p), C, V, phi, nsample, nbatch)"
   ]
  },
  {
   "cell_type": "code",
   "execution_count": 17,
   "metadata": {
    "collapsed": false
   },
   "outputs": [
    {
     "data": {
      "text/plain": [
       "array([-0.06804068,  0.04728345,  0.11686598, -0.49039288, -0.09057608,\n",
       "        0.05453289, -0.17174647,  0.00931987])"
      ]
     },
     "execution_count": 17,
     "metadata": {},
     "output_type": "execute_result"
    }
   ],
   "source": [
    "funcs.sghmc_opt(Y, X, M, M, eps, m, theta, C, C, C, phi, nbatch)"
   ]
  },
  {
   "cell_type": "code",
   "execution_count": 37,
   "metadata": {
    "collapsed": false
   },
   "outputs": [
    {
     "data": {
      "text/plain": [
       "array([ 0.35628637,  1.05926292, -0.0898333 ,  0.05698404, -0.06110759,\n",
       "        0.55896863,  0.42573861,  0.11202914])"
      ]
     },
     "execution_count": 37,
     "metadata": {},
     "output_type": "execute_result"
    }
   ],
   "source": [
    "a = funcs.sghmc_opt_run(Y, Xs, M, eps, m, np.zeros(p), C, V, phi, nsample, nbatch)\n",
    "\n",
    "np.mean(a, axis=0)"
   ]
  },
  {
   "cell_type": "code",
   "execution_count": 25,
   "metadata": {
    "collapsed": false
   },
   "outputs": [
    {
     "name": "stdout",
     "output_type": "stream",
     "text": [
      "1 loop, best of 3: 2.65 s per loop\n"
     ]
    }
   ],
   "source": [
    "%timeit funcs.sghmc_opt_run(Y, Xs, M, eps, m, np.zeros(p), C, V, phi, nsample, nbatch)"
   ]
  },
  {
   "cell_type": "code",
   "execution_count": 41,
   "metadata": {
    "collapsed": false
   },
   "outputs": [
    {
     "data": {
      "image/png": "[encoded data removed]",
      "text/plain": [
       "<matplotlib.figure.Figure at 0x7f8d725cff28>"
      ]
     },
     "metadata": {},
     "output_type": "display_data"
    }
   ],
   "source": [
    "plt.plot(a[:,0])\n",
    "plt.show()"
   ]
  },
  {
   "cell_type": "code",
   "execution_count": 44,
   "metadata": {
    "collapsed": false
   },
   "outputs": [
    {
     "name": "stdout",
     "output_type": "stream",
     "text": [
      "10000 loops, best of 3: 44.7 µs per loop\n"
     ]
    }
   ],
   "source": [
    "%timeit funcs.stogradU_logistic(theta, Y, Xs, nbatch, phi)"
   ]
  },
  {
   "cell_type": "code",
   "execution_count": 7,
   "metadata": {
    "collapsed": false
   },
   "outputs": [
    {
     "data": {
      "text/plain": [
       "array([ 9.,  0.,  8.,  5.,  6.,  4.,  1.,  2.,  3.,  7.])"
      ]
     },
     "execution_count": 7,
     "metadata": {},
     "output_type": "execute_result"
    }
   ],
   "source": [
    "funcs.test(np.arange(10), 10, 10)"
   ]
  },
  {
   "cell_type": "code",
   "execution_count": 35,
   "metadata": {
    "collapsed": false
   },
   "outputs": [
    {
     "data": {
      "text/plain": [
       "array([[-0.87385359, -0.16941901,  1.16995939, -0.4362486 , -0.46240708,\n",
       "         1.63181025, -0.09875277,  1.03700719]])"
      ]
     },
     "execution_count": 35,
     "metadata": {},
     "output_type": "execute_result"
    }
   ],
   "source": [
    "funcs.mvnorm(np.zeros(p), np.identity(p), 1)"
   ]
  },
  {
   "cell_type": "markdown",
   "metadata": {},
   "source": [
    "### Python"
   ]
  },
  {
   "cell_type": "code",
   "execution_count": 28,
   "metadata": {
    "collapsed": false
   },
   "outputs": [
    {
     "data": {
      "text/plain": [
       "array([ 0.36914602,  1.01212955, -0.20703302,  0.0011857 , -0.12589658,\n",
       "        0.55628479,  0.33929519,  0.14644641])"
      ]
     },
     "execution_count": 28,
     "metadata": {},
     "output_type": "execute_result"
    }
   ],
   "source": [
    "samples, H = run_sghmc(Y, Xs, U_logistic, gradU_logistic, M, eps, m, np.zeros(p), C, V, phi, nsample)\n",
    "\n",
    "np.mean(samples, axis=0)"
   ]
  },
  {
   "cell_type": "code",
   "execution_count": 46,
   "metadata": {
    "collapsed": false
   },
   "outputs": [
    {
     "name": "stdout",
     "output_type": "stream",
     "text": [
      "1 loop, best of 3: 55.8 s per loop\n"
     ]
    }
   ],
   "source": [
    "%timeit run_sghmc(Y, Xs, U_logistic, gradU_logistic, M, eps, m, np.zeros(p), C, V, phi, nsample)"
   ]
  },
  {
   "cell_type": "code",
   "execution_count": 45,
   "metadata": {
    "collapsed": false
   },
   "outputs": [
    {
     "name": "stdout",
     "output_type": "stream",
     "text": [
      "10000 loops, best of 3: 108 µs per loop\n"
     ]
    }
   ],
   "source": [
    "%timeit stogradU(theta, Y, Xs, nbatch, phi)"
   ]
  },
  {
   "cell_type": "code",
   "execution_count": 29,
   "metadata": {
    "collapsed": false
   },
   "outputs": [
    {
     "data": {
      "image/png": "[encoded data removed]",
      "text/plain": [
       "<matplotlib.figure.Figure at 0x7f8d7263ad68>"
      ]
     },
     "metadata": {},
     "output_type": "display_data"
    }
   ],
   "source": [
    "plt.plot((samples)[:,2])\n",
    "plt.show()"
   ]
  },
  {
   "cell_type": "code",
   "execution_count": null,
   "metadata": {
    "collapsed": false
   },
   "outputs": [],
   "source": []
  },
  {
   "cell_type": "code",
   "execution_count": null,
   "metadata": {
    "collapsed": false
   },
   "outputs": [],
   "source": []
  },
  {
   "cell_type": "code",
   "execution_count": null,
   "metadata": {
    "collapsed": true
   },
   "outputs": [],
   "source": []
  }
 ],
 "metadata": {
  "kernelspec": {
   "display_name": "Python 3",
   "language": "python",
   "name": "python3"
  },
  "language_info": {
   "codemirror_mode": {
    "name": "ipython",
    "version": 3
   },
   "file_extension": ".py",
   "mimetype": "text/x-python",
   "name": "python",
   "nbconvert_exporter": "python",
   "pygments_lexer": "ipython3",
   "version": "3.5.2"
  }
 },
 "nbformat": 4,
 "nbformat_minor": 2
}
