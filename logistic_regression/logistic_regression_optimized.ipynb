{
 "cells": [
  {
   "cell_type": "markdown",
   "metadata": {},
   "source": [
    "Here is the library of functions:"
   ]
  },
  {
   "cell_type": "code",
   "execution_count": 10,
   "metadata": {
    "collapsed": false
   },
   "outputs": [],
   "source": [
    "def logistic(x):\n",
    "    '''\n",
    "    '''\n",
    "    return 1/(1+np.exp(-x))\n",
    "\n",
    "def U_logistic(theta, Y, X, phi):\n",
    "    '''\n",
    "    '''\n",
    "    return - (Y.T @ X @ theta - np.sum(np.log(1+np.exp(X @ theta))) - 0.5 * phi * np.sum(theta**2))\n",
    "\n",
    "def gradU_logistic(theta, Y, X, phi):\n",
    "    '''\n",
    "    '''\n",
    "    n = X.shape[0]\n",
    "    \n",
    "    Y_pred = logistic(X @ theta)\n",
    "    epsilon = (Y[:,np.newaxis] - Y_pred[:,np.newaxis])\n",
    "    grad = X.T @ epsilon - phi * theta[:, np.newaxis]\n",
    "\n",
    "    return -grad/n\n",
    "\n",
    "\n",
    "def hmc(Y, X, U, gradU, M, eps, m, theta0, phi):\n",
    "    '''\n",
    "    '''\n",
    "    theta = theta0.copy()\n",
    "    n, p = X.shape\n",
    "    \n",
    "    # Precompute\n",
    "    Minv = np.linalg.inv(M)\n",
    "    \n",
    "    # Randomly sample momentum\n",
    "    r = np.random.multivariate_normal(np.zeros(p),M)[:,np.newaxis]\n",
    "    \n",
    "    # Intial energy\n",
    "    H0 = U(theta0, Y, X, phi) + 0.5 * np.asscalar(r.T @ Minv @ r)\n",
    "    \n",
    "    # Hamiltonian dynamics\n",
    "    r -= (eps/2)*gradU(theta, Y, X, phi)\n",
    "    for i in range(m):\n",
    "        theta += (eps*Minv@r).ravel()\n",
    "        r -= eps*gradU(theta, Y, X, phi)\n",
    "    r -= (eps/2)*gradU(theta, Y, X, phi)\n",
    "    \n",
    "    # Final energy\n",
    "    H1 = U(theta, Y, X, phi) + np.asscalar(0.5 * r.T @ Minv @ r)\n",
    "    \n",
    "    # MH step\n",
    "    u = np.random.uniform()\n",
    "    rho = np.exp(H0 - H1) # Acceptance probability\n",
    "    \n",
    "    if u < np.min((1, rho)):\n",
    "        # accept\n",
    "        accept = True\n",
    "        H = H1\n",
    "    else:\n",
    "        # reject\n",
    "        theta = theta0\n",
    "        accept = False\n",
    "        H = H0\n",
    "\n",
    "    return theta, accept, rho, H\n",
    "\n",
    "\n",
    "def run_hmc(Y, X, U, gradU, M, eps, m, theta, phi, nsample):\n",
    "\n",
    "    n, p = X.shape\n",
    "    \n",
    "    # Allocate space\n",
    "    samples = np.zeros((nsample, p))\n",
    "    accept = np.zeros(nsample)\n",
    "    rho = np.zeros(nsample)\n",
    "    H = np.zeros(nsample)\n",
    "    \n",
    "    # Run hmc\n",
    "    for i in range(nsample):\n",
    "        theta, accept[i], rho[i], H[i] = hmc(Y, X, U, gradU, M, eps, m, theta, phi)\n",
    "        samples[i] = theta\n",
    "        \n",
    "    return samples, accept, rho, H  \n",
    "\n",
    "def stogradU(theta, Y, X, nbatch, phi):\n",
    "    '''A function that returns the stochastic gradient. Adapted from Eq. 5.\n",
    "    Inputs are:\n",
    "        theta, the parameters\n",
    "        Y, the response\n",
    "        X, the covariates\n",
    "        nbatch, the number of samples to take from the full data\n",
    "    '''\n",
    "    n, p = X.shape\n",
    "    \n",
    "    # Sample minibatch\n",
    "    batch_id = np.random.choice(np.arange(n),nbatch,replace=False)\n",
    "    \n",
    "    Y_pred = logistic(X[batch_id,:] @ theta[:,np.newaxis])\n",
    "    epsilon = (Y[batch_id,np.newaxis] - Y_pred)\n",
    "    grad = n/nbatch * X[batch_id,:].T @ epsilon - phi * theta[:, np.newaxis]\n",
    "\n",
    "    #return -grad/n\n",
    "    return -grad\n",
    "\n",
    "def sghmc(Y, X, U, gradU, M, Minv, eps, m, theta, B, D, phi):\n",
    "    \n",
    "    n, p = X.shape\n",
    "    \n",
    "    # Randomly sample momentum\n",
    "    r = np.random.multivariate_normal(np.zeros(p),M)[:,np.newaxis]\n",
    "    \n",
    "    # Hamiltonian dynamics\n",
    "    for i in range(m):        \n",
    "        theta += (eps*Minv@r).ravel()\n",
    "        r -= eps*stogradU(theta, Y, X, nbatch,phi) - eps*C @ Minv @ r \\\n",
    "            + np.random.multivariate_normal(np.zeros(p),D)[:,np.newaxis] \n",
    "    \n",
    "    # Record the energy\n",
    "    H = U(theta, Y, X, phi) + np.asscalar(0.5 * r.T @ Minv @ r)\n",
    "    \n",
    "    return theta, H\n",
    "\n",
    "def run_sghmc(Y, X, U, gradU, M, eps, m, theta, C, V, phi, nsample):\n",
    "    n, p = X.shape\n",
    "    \n",
    "    # Precompute\n",
    "    Minv = np.linalg.inv(M)\n",
    "    B = 0.5 * V * eps\n",
    "    D = 2*(C-B)*eps\n",
    "    \n",
    "    # Allocate space\n",
    "    samples = np.zeros((nsample, p))\n",
    "    H = np.zeros(nsample)\n",
    "    \n",
    "    # Run sghmc\n",
    "    for i in range(nsample):\n",
    "        theta, H[i] = sghmc(Y, X, U, gradU, M, Minv, eps, m, theta, B, D, phi)\n",
    "        samples[i] = theta\n",
    "        \n",
    "    return samples, H\n",
    "    \n",
    "    \n",
    "def gd(Y, X, gradU, eps, m, theta, phi):\n",
    "    '''\n",
    "    '''\n",
    "    samples = np.zeros((nsample, p))\n",
    "    \n",
    "    for i in range(m):\n",
    "        theta -= eps*gradU(theta, Y, X, phi).ravel()\n",
    "      \n",
    "    return theta     "
   ]
  },
  {
   "cell_type": "code",
   "execution_count": 1,
   "metadata": {
    "collapsed": false
   },
   "outputs": [
    {
     "name": "stdout",
     "output_type": "stream",
     "text": [
      "Cloning into 'eigen'...\n",
      "remote: Counting objects: 89103, done.\u001b[K\n",
      "remote: Total 89103 (delta 0), reused 0 (delta 0), pack-reused 89103\u001b[K\n",
      "Receiving objects: 100% (89103/89103), 72.17 MiB | 28.15 MiB/s, done.\n",
      "Resolving deltas: 100% (65927/65927), done.\n",
      "Checking connectivity... done.\n"
     ]
    }
   ],
   "source": [
    "import os\n",
    "if not os.path.exists('./eigen'):\n",
    "    ! git clone https://github.com/RLovelett/eigen.git"
   ]
  },
  {
   "cell_type": "code",
   "execution_count": 1,
   "metadata": {
    "collapsed": true
   },
   "outputs": [],
   "source": [
    "import cppimport\n",
    "import numpy as np"
   ]
  },
  {
   "cell_type": "code",
   "execution_count": 41,
   "metadata": {
    "collapsed": false
   },
   "outputs": [
    {
     "name": "stdout",
     "output_type": "stream",
     "text": [
      "Overwriting wrap.cpp\n"
     ]
    }
   ],
   "source": [
    "%%file wrap.cpp\n",
    "<%\n",
    "cfg['compiler_args'] = ['-std=c++11']\n",
    "cfg['include_dirs'] = ['./eigen']\n",
    "setup_pybind11(cfg)\n",
    "%>\n",
    "\n",
    "#include <pybind11/pybind11.h>\n",
    "#include <pybind11/numpy.h>\n",
    "#include <pybind11/eigen.h>\n",
    "#include <Eigen/Cholesky>\n",
    "\n",
    "#include <random>\n",
    "#include <algorithm>\n",
    "#include <iterator>\n",
    "#include <iostream>\n",
    "\n",
    "namespace py = pybind11;\n",
    "\n",
    "Eigen::VectorXd logistic(Eigen::VectorXd x) {\n",
    "    return 1.0/(1.0 + exp((-x).array()));\n",
    "}\n",
    "\n",
    "Eigen::VectorXd gd(Eigen::MatrixXd X, Eigen::VectorXd y, Eigen::VectorXd beta, double alpha, int niter) {\n",
    "    int n = X.rows();\n",
    "    \n",
    "    Eigen::VectorXd y_pred;\n",
    "    Eigen::VectorXd resid;\n",
    "    Eigen::VectorXd grad;\n",
    "    Eigen::MatrixXd Xt = X.transpose();\n",
    "            \n",
    "    for (int i=0; i<niter; i++) {\n",
    "        y_pred = logistic(X * beta);\n",
    "        resid = y - y_pred;\n",
    "        grad = Xt * resid / n;\n",
    "        beta = beta + alpha * grad;\n",
    "    }\n",
    "    return beta;\n",
    "}\n",
    "   \n",
    "Eigen::MatrixXd mvnorm(Eigen::VectorXd mu, Eigen::MatrixXd Sigma, int n) {\n",
    "    std::default_random_engine gen;\n",
    "    std::normal_distribution<double> distribution(0, 1);    \n",
    "    \n",
    "    Eigen::MatrixXd A(Sigma.llt().matrixL());\n",
    "    int p = mu.size();\n",
    "    Eigen::MatrixXd Z(n,p);  \n",
    "            \n",
    "    for(int i=0; i<n; i++) {\n",
    "        Eigen::VectorXd v(p);\n",
    "        for(int j=0; j<p; j++){\n",
    "            v[j] = distribution(gen);\n",
    "        }\n",
    "        Z.row(i) = mu + A*v;\n",
    "    }\n",
    "    return Z;          \n",
    "}\n",
    "    \n",
    "Eigen::VectorXd stogradU_logistic(Eigen::VectorXd theta, Eigen::VectorXd Y, Eigen::MatrixXd X, int nbatch, double phi) {\n",
    "    // currently this does no random sampling\n",
    "    int n = X.rows();            \n",
    "                \n",
    "    Eigen::VectorXd Y_pred;\n",
    "    Eigen::VectorXd epsilon;\n",
    "    Eigen::VectorXd grad;\n",
    "    Eigen::MatrixXd Xt = X.transpose();            \n",
    "                \n",
    "    Y_pred = logistic(X * theta);\n",
    "    epsilon = Y - Y_pred;\n",
    "    grad = n/nbatch * Xt * epsilon - phi * theta;\n",
    "\n",
    "    return -grad;\n",
    "} \n",
    "\n",
    "Eigen::VectorXd sghmc_opt_run(Eigen::VectorXd Y, Eigen::MatrixXd X, Eigen::MatrixXd M, double eps, int m, Eigen::VectorXd theta, Eigen::MatrixXd C, Eigen::MatrixXd V, double phi, int nsample) {\n",
    "    int n = X.rows();\n",
    "    int p = X.cols();  \n",
    "            \n",
    "            \n",
    "    /*\n",
    "    n, p = X.shape\n",
    "    \n",
    "    # Precompute\n",
    "    Minv = np.linalg.inv(M)\n",
    "    B = 0.5 * V * eps\n",
    "    D = 2*(C-B)*eps\n",
    "    \n",
    "    # Allocate space\n",
    "    samples = np.zeros((nsample, p))\n",
    "    H = np.zeros(nsample)\n",
    "    \n",
    "    # Run sghmc\n",
    "    for i in range(nsample):\n",
    "        theta, H[i] = sghmc(Y, X, U, gradU, M, Minv, eps, m, theta, B, D, phi)\n",
    "        samples[i] = theta\n",
    "        \n",
    "    return samples, H\n",
    "            \n",
    "    */\n",
    "    \n",
    "    return Y;      \n",
    "}\n",
    "        \n",
    "Eigen::VectorXd sghmc_opt(Eigen::VectorXd Y, Eigen::MatrixXd X, Eigen::MatrixXd M, Eigen::MatrixXd Minv, double eps, int m, Eigen::VectorXd theta, Eigen::MatrixXd C, Eigen::MatrixXd B, Eigen::MatrixXd D, double phi, int nbatch) {\n",
    "                \n",
    "    // What do we do with the gradient and the U? I think we'll have to fix it with logistic...\n",
    "     \n",
    "    int n = X.rows();\n",
    "    int p = X.cols();\n",
    "    Eigen::VectorXd sgrad;\n",
    "    Eigen::VectorXd noise;            \n",
    "    \n",
    "    // Randomly sample momentum\n",
    "    Eigen::VectorXd mu = Eigen::VectorXd::Zero( p );       \n",
    "    Eigen::MatrixXd r = mvnorm(mu,M,p);\n",
    "    \n",
    "                \n",
    "    for(int i=0; i<m; i++) {\n",
    "        theta = theta + eps * Minv * r;\n",
    "                    \n",
    "        sgrad = stogradU_logistic(theta, Y, X, nbatch, phi);\n",
    "        noise = mvnorm(mu,D,p);\n",
    "        r = r - eps*sgrad - eps*C*Minv*r + noise;\n",
    "    }        \n",
    "                \n",
    "    return r;\n",
    "}  \n",
    "            \n",
    "\n",
    "PYBIND11_PLUGIN(wrap) {\n",
    "    py::module m(\"wrap\", \"pybind11 example plugin\");\n",
    "    m.def(\"gd\", &gd, \"The gradient descent fucntion.\");\n",
    "    m.def(\"logistic\", &logistic, \"The logistic fucntion.\");\n",
    "    m.def(\"mvnorm\", &mvnorm, \"Random multivariate normal function\");\n",
    "    m.def(\"sghmc_opt\", &sghmc_opt, \"SGHMC\");\n",
    "    m.def(\"stogradU_logistic\", &stogradU_logistic, \"Test\");\n",
    "    m.def(\"sghmc_opt_run\", &sghmc_opt_run, \"Test2\");\n",
    "\n",
    "    return m.ptr();\n",
    "}"
   ]
  },
  {
   "cell_type": "code",
   "execution_count": 42,
   "metadata": {
    "collapsed": false
   },
   "outputs": [],
   "source": [
    "cppimport.force_rebuild() \n",
    "funcs = cppimport.imp(\"wrap\")"
   ]
  },
  {
   "cell_type": "code",
   "execution_count": 40,
   "metadata": {
    "collapsed": false
   },
   "outputs": [
    {
     "ename": "NameError",
     "evalue": "name 'p' is not defined",
     "output_type": "error",
     "traceback": [
      "\u001b[1;31m\u001b[0m",
      "\u001b[1;31mNameError\u001b[0mTraceback (most recent call last)",
      "\u001b[1;32m<ipython-input-40-18108910f601>\u001b[0m in \u001b[0;36m<module>\u001b[1;34m()\u001b[0m\n\u001b[1;32m----> 1\u001b[1;33m \u001b[0mfuncs\u001b[0m\u001b[1;33m.\u001b[0m\u001b[0mstogradU_logistic\u001b[0m\u001b[1;33m(\u001b[0m\u001b[0mnp\u001b[0m\u001b[1;33m.\u001b[0m\u001b[0mzeros\u001b[0m\u001b[1;33m(\u001b[0m\u001b[0mp\u001b[0m\u001b[1;33m)\u001b[0m\u001b[1;33m,\u001b[0m \u001b[0mY\u001b[0m\u001b[1;33m,\u001b[0m \u001b[0mXs\u001b[0m\u001b[1;33m,\u001b[0m \u001b[1;36m768\u001b[0m\u001b[1;33m,\u001b[0m\u001b[1;36m.1\u001b[0m\u001b[1;33m)\u001b[0m\u001b[1;33m\u001b[0m\u001b[0m\n\u001b[0m",
      "\u001b[1;31mNameError\u001b[0m: name 'p' is not defined"
     ]
    }
   ],
   "source": [
    "funcs.stogradU_logistic(np.zeros(p), Y, Xs, 768,.1)"
   ]
  },
  {
   "cell_type": "code",
   "execution_count": 23,
   "metadata": {
    "collapsed": false
   },
   "outputs": [
    {
     "data": {
      "text/plain": [
       "array([[ -81.22806106],\n",
       "       [-170.79683535],\n",
       "       [ -23.81893049],\n",
       "       [ -27.36380982],\n",
       "       [ -47.78839799],\n",
       "       [-107.14383875],\n",
       "       [ -63.63737681],\n",
       "       [ -87.25261602]])"
      ]
     },
     "execution_count": 23,
     "metadata": {},
     "output_type": "execute_result"
    }
   ],
   "source": [
    "stogradU(np.zeros(p), Y, Xs,768,.1)"
   ]
  },
  {
   "cell_type": "code",
   "execution_count": null,
   "metadata": {
    "collapsed": true
   },
   "outputs": [],
   "source": []
  },
  {
   "cell_type": "code",
   "execution_count": null,
   "metadata": {
    "collapsed": false
   },
   "outputs": [],
   "source": [
    "β = np.array([0.0, 0.0, 0.0])\n",
    "niter = 1000\n",
    "α = 0.01\n",
    "funcs.logistic(np.array([1,1,1]))"
   ]
  },
  {
   "cell_type": "code",
   "execution_count": 8,
   "metadata": {
    "collapsed": false
   },
   "outputs": [
    {
     "data": {
      "text/plain": [
       "array([ -1.21965784e-01,   2.00699442e-01,  -9.35841894e-01,\n",
       "        -6.79454470e-01,   1.21152317e+00,  -1.02426132e-02,\n",
       "        -9.71748850e-01,  -1.19754285e+00,  -1.34846337e-01,\n",
       "         1.32768904e+00,   9.30068557e-01,  -2.64431743e-01,\n",
       "         5.52046819e-01,  -3.37411629e-01,   7.01916685e-02,\n",
       "         8.00381768e-01,   2.03893336e+00,  -3.95309284e-01,\n",
       "         1.44558062e+00,  -2.49472733e+00,  -1.84950973e-01,\n",
       "        -5.76553478e-01,   7.56390145e-01,  -3.05203891e-01,\n",
       "        -7.21056789e-01,   5.74716684e-01,  -7.67222005e-01,\n",
       "        -1.45189550e+00,   8.28619600e-02,   1.28497947e+00,\n",
       "        -3.83066610e-01,   7.10525145e-02,   2.38646917e-02,\n",
       "         9.58264701e-01,   3.73169521e-01,  -2.09800369e-01,\n",
       "         1.19519333e-01,   6.62920023e-01,  -7.87302137e-02,\n",
       "         3.07346325e-01,  -1.23968897e+00,  -1.46471550e-01,\n",
       "        -1.91775501e+00,  -1.39658490e+00,   4.35994765e-01,\n",
       "         1.94760752e+00,  -1.37773396e+00,   5.25125932e-01,\n",
       "        -2.80975572e-01,  -1.01999651e+00,  -6.25170323e-01,\n",
       "         1.54792097e+00,  -1.94044536e+00,   1.62484132e+00,\n",
       "        -2.89191040e-01,   1.61330958e-01,  -2.38891377e+00,\n",
       "         1.39207657e+00,   2.44941702e+00,  -8.20112252e-01,\n",
       "        -7.98809003e-01,  -9.73606124e-01,  -1.35136088e+00,\n",
       "         1.50666702e+00,   7.34879603e-01,   8.12096721e-01,\n",
       "        -3.11195876e-01,  -8.07185520e-01,  -1.81065854e-01,\n",
       "         2.66675378e-01,  -1.94671157e-01,   5.30975298e-01,\n",
       "        -6.99807114e-02,   4.67157264e-01,   7.88708588e-01,\n",
       "        -1.11405476e+00,   1.34814224e-01,  -4.39125534e-01,\n",
       "         5.42035554e-01,  -9.38867274e-01,  -1.91850764e-01,\n",
       "        -5.27790744e-01,   5.08174808e-01,   4.62107142e-01,\n",
       "        -7.11469061e-01,   1.08750108e+00,  -2.07547170e+00,\n",
       "         7.81728750e-01,   3.90986037e-01,   6.26593953e-01,\n",
       "        -8.78568175e-01,   5.83125358e-01,   9.67906675e-01,\n",
       "        -1.57360183e+00,   2.09286087e-02,   2.84037208e-01,\n",
       "        -3.71386651e-01,   1.16586708e+00,  -1.32382915e+00,\n",
       "        -1.17195459e+00,   2.22738567e+00,   1.25057931e+00,\n",
       "        -7.95571982e-01,  -6.06205336e-01,   4.59212157e-01,\n",
       "         1.31797003e+00,  -9.22064884e-01,   2.39746343e-01,\n",
       "        -9.61701642e-01,  -8.20284656e-01,   1.34698008e-01,\n",
       "        -4.38485719e-01,   2.32225327e-02,  -1.14171656e-01,\n",
       "         1.10520817e+00,  -5.52804263e-01,  -6.02581984e-01,\n",
       "         4.17514003e-01,  -9.69239034e-01,  -9.94020018e-01,\n",
       "         2.71506660e-01,  -6.37085394e-01,   3.60335872e-01,\n",
       "         1.05612956e-01,  -7.92701348e-01,   8.22704990e-01,\n",
       "        -1.11086695e+00,   6.74976732e-01,   1.82421481e+00,\n",
       "         3.10153330e-01,  -7.49762171e-01,   1.58769871e+00,\n",
       "         1.82488973e+00,   4.52642862e-01,   1.88940094e+00,\n",
       "         4.46096984e-01,   1.72784195e+00,   8.98318988e-03,\n",
       "        -1.11125316e+00,  -6.10705453e-01,   2.26820595e-01,\n",
       "        -1.15957227e+00,  -9.00449672e-01,  -3.90071925e-01,\n",
       "        -8.90971176e-01,  -6.36531628e-01,   2.98057555e-01,\n",
       "         1.12681366e-01,  -1.75115652e-01,   1.47256291e+00,\n",
       "         6.50054238e-01,   3.40051436e-01,  -9.20420614e-02,\n",
       "        -1.99057934e-01,   9.74460481e-01,   1.22404037e+00,\n",
       "        -1.39040539e+00,   3.24175166e-01,   2.36700307e+00,\n",
       "        -6.97641246e-01,   9.23000898e-01,   2.55693318e-01,\n",
       "        -2.06563128e-03,  -7.55339872e-01,   6.43486467e-01,\n",
       "        -9.75695041e-01,   6.00679082e-01,   1.25275982e+00,\n",
       "         3.44767966e-01,   5.28120702e-01,   9.89575189e-01,\n",
       "        -1.69118547e-01,  -1.29906436e+00,  -1.32892904e+00,\n",
       "         5.95864498e-01,  -2.94125974e-01,  -1.72969554e+00,\n",
       "         5.89912444e-02,  -9.86580685e-01,   1.34522064e+00,\n",
       "         7.43009812e-01,   1.21038900e+00,   1.70567773e+00,\n",
       "         1.05504420e+00,   1.94617643e-02,  -9.27732612e-01,\n",
       "        -4.74509410e-01,  -3.20686548e-01,  -1.20860241e+00,\n",
       "        -2.35645954e-01,  -7.48088332e-01,   8.49307400e-01,\n",
       "         6.28025408e-01,  -1.99441457e-01,  -5.36443663e-01,\n",
       "         2.75968928e-01,  -4.69870914e-01,  -2.21876455e+00,\n",
       "        -1.12123667e+00,   2.58558877e-01,  -1.50839584e+00,\n",
       "        -9.49665697e-01,  -3.84323050e-01,   3.00246334e-01,\n",
       "         5.66386013e-01,   1.13530897e+00,   2.03004447e+00,\n",
       "         1.75625808e+00,   1.70167328e+00,  -5.48870283e-01,\n",
       "         2.05622429e+00,   1.44402967e+00,  -7.34413462e-01,\n",
       "        -7.00051029e-02,  -5.41132803e-01,   1.33944276e+00,\n",
       "         6.73394036e-01,  -3.02350119e-02,   8.67740843e-01,\n",
       "        -1.01745430e+00,  -7.24588205e-01,  -1.27971311e+00,\n",
       "         1.22465802e-01,  -1.54675122e+00,  -8.56134426e-01,\n",
       "         8.52484450e-01,   1.39865003e+00,  -7.14858448e-01,\n",
       "        -1.92866656e-01,  -1.84500821e-01,  -1.99936466e-01,\n",
       "         1.02467100e+00,   2.76253924e-01,  -1.04070340e-01,\n",
       "         5.60949797e-01,  -7.60640693e-01,   4.68811195e-01,\n",
       "        -1.65395381e+00,   2.21705880e+00,   1.79241784e-01,\n",
       "         7.45844002e-01,   2.78726707e-01,  -1.76191924e+00,\n",
       "         2.84392443e-01,  -2.30951798e-01,  -3.33334975e-01,\n",
       "         1.52004704e+00,   1.15026814e+00,   6.08490268e-01,\n",
       "         2.29512278e-01,   7.49860429e-01,  -7.16904567e-01,\n",
       "        -7.16929456e-01,   3.27862670e-01,   4.13952365e-02,\n",
       "         6.23612137e-01,   4.96286445e-01,   1.06758042e-01,\n",
       "        -1.72063363e-01,   3.07692556e-02,  -1.03358425e+00,\n",
       "        -1.45398372e+00,  -4.50231166e-01,   1.16447318e+00,\n",
       "         1.86877597e+00,  -5.92639738e-01,   1.60949554e+00,\n",
       "        -9.22162157e-01,   5.06173677e-01,   4.73256160e-01,\n",
       "         4.42762545e-02,   4.00171898e-01,   2.23178407e+00,\n",
       "        -4.10449253e-02,   6.47772199e-02,  -1.89097213e+00,\n",
       "        -1.14407022e+00,   7.20012370e-01,  -1.25875614e+00,\n",
       "         1.28107679e+00,   1.05995746e+00,  -4.34958935e-01,\n",
       "        -2.04043274e-01,   1.11382400e+00,  -1.35471275e+00,\n",
       "        -8.59114306e-01,   5.36405671e-01,   6.65402567e-02,\n",
       "         7.35549145e-01,  -2.05344084e+00,  -7.92921402e-01,\n",
       "        -1.08839433e-01,  -1.21416529e+00,  -3.65054577e-01,\n",
       "         9.05706785e-01,   1.88521910e+00,  -1.55622802e+00,\n",
       "        -1.27605095e-01,   4.66821103e-01,   1.11438967e+00,\n",
       "        -1.05986465e+00,  -6.86754150e-01,  -6.50021528e-01,\n",
       "        -1.77487814e+00,  -1.70750916e+00,  -1.06065518e-01,\n",
       "         1.20322313e+00,  -9.78588478e-01,   1.50121278e+00,\n",
       "         1.88721099e+00,  -3.61136446e-01,  -9.90412424e-02,\n",
       "         7.89982178e-01,  -1.34778199e+00,  -4.72686990e-01,\n",
       "         3.06383564e-01,   2.11202923e+00,   3.49947379e-01,\n",
       "         4.38346327e-01,  -1.03585079e-01,  -6.98254179e-01,\n",
       "         4.24312551e-01,   9.87215283e-01,  -4.32978947e-01,\n",
       "        -2.50177365e-01,  -1.40851397e+00,  -3.34872616e-01,\n",
       "        -8.59155150e-01,   2.87808828e-02,   1.06717827e+00,\n",
       "        -1.22171454e+00,  -9.78194520e-01,   4.27806517e-01,\n",
       "         2.01907067e-01,  -1.82282719e+00,   7.57975137e-01,\n",
       "         1.01239214e-01,   2.11435471e-01,  -1.17749281e-01,\n",
       "        -1.11736713e+00,   1.33407413e+00,   1.50792486e+00,\n",
       "        -1.35524284e+00,  -2.24110621e+00,  -3.34869688e+00,\n",
       "         3.69771238e-01,  -6.77673953e-01,  -1.89139648e+00,\n",
       "         2.84513133e-01,   7.45032345e-01,   1.35678666e+00,\n",
       "         1.00086354e+00,   3.23680765e-01,   2.33099377e-01,\n",
       "        -4.15344494e-01,  -2.40881466e-01,  -1.04222403e+00,\n",
       "        -1.18200263e+00,  -1.22380467e-01,  -9.67782474e-01,\n",
       "         4.96005231e-01,   2.03265424e+00,  -1.70765817e+00,\n",
       "        -8.08036586e-02,   1.56399630e+00,  -5.90786546e-01,\n",
       "        -1.39451086e+00,  -3.82258713e-01,  -7.46092005e-01,\n",
       "        -8.79498572e-01,  -5.89147770e-01,   7.86564292e-01,\n",
       "        -3.68858938e-02,   1.12972521e-01,   2.55559902e-01,\n",
       "         1.09241413e+00,   5.21410427e-02,  -1.01701953e+00,\n",
       "         1.68301303e-01,   1.00287270e+00,   1.42438275e+00,\n",
       "         4.12331984e-02,  -4.64494752e-01,  -2.50211890e-01,\n",
       "         6.34051648e-01,   2.06409688e-01,  -8.36436060e-02,\n",
       "        -6.71785041e-01,  -6.60907726e-01,   9.23045779e-01,\n",
       "         1.01386555e-01,  -5.17852928e-01,  -8.27708248e-01,\n",
       "         9.30962424e-01,   1.39525746e+00,   5.25031965e-01,\n",
       "         1.25160949e+00,   9.07253361e-01,  -6.01482553e-01,\n",
       "         2.06017221e-01,  -1.32119789e+00,  -1.29456998e+00,\n",
       "        -4.34525162e-01,  -4.59969208e-01,  -3.79327172e-01,\n",
       "         1.35903546e+00,  -1.32525152e+00,   9.43259131e-01,\n",
       "        -6.00975961e-01,   8.17368709e-01,  -1.37425136e+00,\n",
       "        -2.04151509e+00,  -4.30692645e-01,   4.01229936e-01,\n",
       "         8.25802226e-01,   1.95814457e+00,  -1.08499688e+00,\n",
       "         1.67948813e+00,   3.14629076e-01,  -9.89686588e-01,\n",
       "        -1.14299071e+00,   4.21196505e-01,   3.49355320e-01,\n",
       "         4.60817761e-01,   1.48617824e+00,  -8.45041724e-01,\n",
       "         4.15745984e-01,   2.14680135e-02,  -2.02804200e+00,\n",
       "        -9.12730105e-01,  -1.46462970e+00,  -9.82273292e-01,\n",
       "         5.39929043e-01,  -2.54233557e-01,  -7.33085380e-01,\n",
       "        -1.29179139e+00,  -1.17237535e+00,  -2.72083384e-01,\n",
       "        -8.74717818e-01,  -3.09035868e-01,  -1.03457049e+00,\n",
       "        -1.52888714e+00,   1.50896895e+00,   3.83129494e-02,\n",
       "        -4.11226356e-01,  -8.32043250e-01,  -8.69774862e-01,\n",
       "         2.42275540e-01,  -1.26482716e-01,  -1.16633438e+00,\n",
       "        -1.26252113e+00,  -1.12728078e-01,  -1.43557458e+00,\n",
       "        -5.23010572e-01,   6.17726672e-01,   8.59872438e-01,\n",
       "        -3.26998037e-01,  -1.36614763e-01,  -1.46402029e+00,\n",
       "         1.14734620e+00,   1.12348688e+00,   4.43509231e-01,\n",
       "         1.61623829e+00,  -2.02540069e-01,  -4.53205176e-01,\n",
       "         4.19445763e-02,   4.29675044e-01,  -6.18114397e-01,\n",
       "         1.74128928e+00,   4.20540532e-01,   3.80578419e-01,\n",
       "        -3.27011923e-01,   1.58998825e+00,  -1.85156078e-01,\n",
       "        -3.12337431e-01,  -5.59487336e-01,   1.31582950e-01,\n",
       "         2.63626710e-01,  -1.27107203e+00,   1.07316673e+00,\n",
       "        -1.78656081e+00,   1.14637355e+00,   7.86650923e-01,\n",
       "         1.09558161e-01,  -5.88744606e-01,   1.00978902e+00,\n",
       "        -7.34524721e-01,   1.65213566e+00,  -8.15613577e-01,\n",
       "         8.74085558e-01,   1.37627319e+00,  -3.83999513e-01,\n",
       "         2.05831513e+00,  -9.48166929e-02,  -1.26885534e+00,\n",
       "         1.59032595e-01,   1.95623775e+00,   2.45202857e-01,\n",
       "         6.81541712e-01,  -1.03622826e+00,  -6.74461673e-01,\n",
       "         1.01889823e+00,   7.37696801e-01,  -8.81519716e-01,\n",
       "        -1.36834784e+00,   3.10231109e-01,  -2.94764351e-01,\n",
       "         1.80799218e-01,   4.45865094e-01,  -1.50211255e+00,\n",
       "        -1.11121281e+00,   1.54058188e+00,   6.53680268e-02,\n",
       "        -3.78075635e-01,   1.63608841e-02,  -5.27813324e-01,\n",
       "         2.63843259e-01,   4.66560045e-02,   9.91223282e-01,\n",
       "        -5.82936585e-02,  -1.51511071e+00,   2.96681486e-01,\n",
       "        -1.47125887e+00,   7.00142488e-01,   5.28787505e-01,\n",
       "        -1.71860705e+00,   4.35960570e-02,  -1.19346868e+00,\n",
       "         2.82887801e-01,   5.65295500e-01,   3.67187934e-01,\n",
       "        -4.89443741e-01,   1.76187467e+00,  -5.31045997e-01,\n",
       "        -1.07857730e-01,  -1.25333569e-01,   2.65714313e+00,\n",
       "         3.23223866e-01,  -4.48443991e-01,  -2.42070880e+00,\n",
       "         5.54520794e-01,  -1.07537631e+00,  -1.03420186e+00,\n",
       "        -1.01421492e+00,   2.39225226e-01,  -1.22891151e+00,\n",
       "        -1.07768508e+00,  -1.63115780e+00,  -5.33004155e-01,\n",
       "         4.71237579e-01,   2.28785975e-01,   1.02855685e-02,\n",
       "        -1.73225364e+00,   1.19935705e+00,   9.29716440e-02,\n",
       "         7.63838285e-01,   1.45047169e+00,   6.81249797e-01,\n",
       "         4.51535053e-01,  -1.10744768e+00,  -2.13058543e-01,\n",
       "        -5.55213760e-01,   5.88697917e-01,   1.25082976e+00,\n",
       "         3.46286034e-01,   2.35713389e-02,  -5.52181164e-01,\n",
       "         1.74728389e-01,  -2.59213799e+00,  -4.03559265e-02,\n",
       "        -1.27013031e-01,   4.17906183e-01,   7.75562429e-01,\n",
       "         5.98442070e-01,  -1.67048600e+00,  -1.04074594e+00,\n",
       "        -7.43699147e-01,  -7.63509541e-01,  -4.17815368e-01,\n",
       "        -4.59135715e-01,  -3.92910663e-01,   1.01847818e+00,\n",
       "        -4.44850668e-01,  -4.09102956e-01,  -1.30643281e+00,\n",
       "         5.36876133e-01,  -5.07475184e-01,   1.37953969e+00,\n",
       "        -8.14459641e-02,   7.15388114e-01,   2.33122979e-01,\n",
       "        -1.16701645e+00,  -9.41865978e-01,  -1.15644669e-01,\n",
       "         7.52710772e-01,  -2.85863168e-01,   4.21061232e-02,\n",
       "        -1.26564101e+00,  -1.11590196e+00,  -7.64521554e-01,\n",
       "         1.66894393e-01,   5.39850506e-01,   4.09623743e-01,\n",
       "        -1.72326477e+00,   2.17897050e-01,  -1.53336002e+00,\n",
       "         5.37559533e-01,   1.47488820e-02,  -4.42922932e-01,\n",
       "         1.04150524e+00,  -1.51973068e+00,  -4.89421175e-01,\n",
       "        -5.25968321e-01,  -6.27077187e-01,   1.06114781e+00,\n",
       "         7.14420162e-01,  -1.23336673e+00,   8.28980159e-01,\n",
       "        -1.89503760e+00,  -1.41628489e+00,   3.16298779e-01,\n",
       "         5.01435809e-01,  -8.20881583e-01,  -1.14490454e+00,\n",
       "         3.99752992e-01,   1.61368006e+00,  -1.23821187e+00,\n",
       "        -9.26745247e-02,   7.47082798e-01,   5.56241004e-01,\n",
       "         6.17116265e-01,  -6.29137687e-01,   1.88495510e-01,\n",
       "        -1.54036608e-01,   5.25075207e-01,   8.25773415e-01,\n",
       "         1.40612060e-02,  -1.27324477e+00,   6.52116941e-01,\n",
       "         1.45599262e+00,   8.31996126e-01,   2.46532686e-01,\n",
       "         1.25549499e-01,  -7.54698586e-01,  -1.50925604e+00,\n",
       "         1.51716610e-01,  -1.36463336e-01,   2.02911786e+00,\n",
       "        -4.38282847e-01,  -1.71849922e+00,  -9.82894277e-01,\n",
       "        -8.28312796e-01,  -4.73466831e-01,   5.99170689e-03,\n",
       "        -1.74157431e+00,  -8.66049304e-01,  -8.85110635e-01,\n",
       "         1.63706296e+00,  -1.06959203e+00,  -1.62747736e+00,\n",
       "         3.73568447e-01,   1.08944443e+00,   1.74953675e+00,\n",
       "         1.01810893e+00,  -3.07979950e-02,  -1.42278418e+00,\n",
       "         2.05685138e-01,  -9.27406725e-01,  -2.70860564e-01,\n",
       "         3.34614308e-01,  -1.33067374e+00,   1.12323761e+00,\n",
       "         5.12935722e-02,   1.64294166e-01,  -6.74386171e-01,\n",
       "         2.62962637e-01,   1.31922887e+00,  -1.03044081e+00,\n",
       "        -4.48759457e-01,  -1.42041692e+00,   1.16664275e+00,\n",
       "        -4.46536733e-02,   2.56299780e-01,   1.06015846e+00,\n",
       "         1.43048166e+00,   9.17451715e-02,  -2.49002113e-01,\n",
       "        -1.73480279e-01,  -8.74947108e-01,  -4.53488031e-01,\n",
       "        -5.38053940e-01,  -2.56540403e-01,  -1.03834528e+00,\n",
       "        -7.16858020e-01,  -1.96921042e+00,  -1.10099774e+00,\n",
       "         1.61289164e-02,  -7.40734294e-01,  -5.71699707e-01,\n",
       "        -9.15505378e-02,  -2.72318936e-01,  -4.24799760e-01,\n",
       "        -9.25964490e-01,  -1.04520054e+00,  -1.14860419e+00,\n",
       "        -1.29041546e+00,   1.68137746e+00,   4.97794024e-01,\n",
       "         1.41053792e+00,  -9.40169019e-01,  -7.53463477e-01,\n",
       "        -1.03216776e-01,  -2.10567550e+00,   3.04126489e-01,\n",
       "        -6.32652971e-01,   8.17612470e-01,  -7.46406193e-01,\n",
       "        -8.30863681e-01,  -1.89940342e-01,  -9.79489392e-02,\n",
       "        -4.39094043e-01,   3.80265642e-01,  -1.78263603e+00,\n",
       "        -5.63877283e-01,  -2.02124207e-01,  -3.05086410e-01,\n",
       "         3.71243296e-01,  -7.40433561e-01,   7.33144953e-01,\n",
       "        -2.14926083e+00,   3.25552467e-01,  -1.74358906e-01,\n",
       "        -3.43168077e-01,  -3.58805540e-01,   5.23223624e-01,\n",
       "        -4.10270292e-01,  -1.17141002e+00,  -4.03358867e-03,\n",
       "        -2.93041200e+00,  -3.07297287e-01,  -1.26583912e+00,\n",
       "        -8.63929236e-01,   9.51924975e-02,  -2.03213994e-01,\n",
       "        -1.01850255e-01,   5.40243747e-01,   1.19839360e-01,\n",
       "        -9.64252687e-01,  -8.66800896e-01,   7.39752189e-01,\n",
       "         3.79191855e-02,  -4.48622133e-01,   6.85231181e-01,\n",
       "         1.36784024e+00,  -1.06789575e+00,  -1.71016230e+00,\n",
       "         8.22898797e-02,   1.01561251e+00,   2.06159107e+00,\n",
       "        -8.20016035e-01,  -9.59255828e-01,   1.36132798e+00,\n",
       "         4.05135704e-01,  -3.04808731e+00,  -5.02888168e-01,\n",
       "         4.05014378e-01,  -8.77988875e-01,  -7.30085157e-03])"
      ]
     },
     "execution_count": 8,
     "metadata": {},
     "output_type": "execute_result"
    }
   ],
   "source": [
    "# HMC - Scaled\n",
    "nsample = 1000\n",
    "m = 20\n",
    "eps = .001\n",
    "theta = np.zeros(p)\n",
    "#theta = beta_true_unscale.copy()\n",
    "phi = 5\n",
    "M = np.identity(p)\n",
    "\n",
    "funcs.sghmc_opt(Y, X, M, np.linalg.inv(M), eps, m, theta,M, M, phi)"
   ]
  },
  {
   "cell_type": "markdown",
   "metadata": {},
   "source": [
    "Everything after here is the script that runs the simulation:"
   ]
  },
  {
   "cell_type": "code",
   "execution_count": 5,
   "metadata": {
    "collapsed": true
   },
   "outputs": [],
   "source": [
    "import numpy as np\n",
    "import matplotlib.pyplot as plt"
   ]
  },
  {
   "cell_type": "code",
   "execution_count": 6,
   "metadata": {
    "collapsed": true
   },
   "outputs": [],
   "source": [
    "pima = np.genfromtxt('pima-indians-diabetes.data', delimiter=',')"
   ]
  },
  {
   "cell_type": "code",
   "execution_count": 7,
   "metadata": {
    "collapsed": false
   },
   "outputs": [],
   "source": [
    "# Load data\n",
    "X = np.concatenate((np.ones((pima.shape[0],1)),pima[:,0:8]), axis=1)\n",
    "Y = pima[:,8]\n",
    "\n",
    "Xs = (X - np.mean(X, axis=0))/np.concatenate((np.ones(1),np.std(X[:,1:], axis=0)))\n",
    "Xs = Xs[:,1:]\n",
    "\n",
    "n, p = Xs.shape"
   ]
  },
  {
   "cell_type": "code",
   "execution_count": null,
   "metadata": {
    "collapsed": true
   },
   "outputs": [],
   "source": []
  },
  {
   "cell_type": "code",
   "execution_count": null,
   "metadata": {
    "collapsed": true
   },
   "outputs": [],
   "source": []
  },
  {
   "cell_type": "code",
   "execution_count": null,
   "metadata": {
    "collapsed": true
   },
   "outputs": [],
   "source": []
  },
  {
   "cell_type": "code",
   "execution_count": null,
   "metadata": {
    "collapsed": true
   },
   "outputs": [],
   "source": []
  },
  {
   "cell_type": "markdown",
   "metadata": {},
   "source": [
    "### Regression"
   ]
  },
  {
   "cell_type": "code",
   "execution_count": 5,
   "metadata": {
    "collapsed": true
   },
   "outputs": [],
   "source": [
    "from sklearn.linear_model import LogisticRegression"
   ]
  },
  {
   "cell_type": "code",
   "execution_count": 6,
   "metadata": {
    "collapsed": false
   },
   "outputs": [
    {
     "data": {
      "text/plain": [
       "array([ -8.31498612e+00,   1.22560027e-01,   3.49183220e-02,\n",
       "        -1.34118967e-02,   6.28219471e-04,  -1.17179659e-03,\n",
       "         8.86606033e-02,   9.30419443e-01,   1.46781178e-02])"
      ]
     },
     "execution_count": 6,
     "metadata": {},
     "output_type": "execute_result"
    }
   ],
   "source": [
    "# Unscaled\n",
    "mod_logis = LogisticRegression(fit_intercept=False, C=1e50)\n",
    "mod_logis.fit(X,Y)\n",
    "beta_true_unscale = mod_logis.coef_.ravel()\n",
    "beta_true_unscale"
   ]
  },
  {
   "cell_type": "code",
   "execution_count": 7,
   "metadata": {
    "collapsed": false
   },
   "outputs": [
    {
     "data": {
      "text/plain": [
       "array([ 0.39024907,  1.08791914, -0.24544979,  0.02250608, -0.1621995 ,\n",
       "        0.59035938,  0.32483104,  0.12120845])"
      ]
     },
     "execution_count": 7,
     "metadata": {},
     "output_type": "execute_result"
    }
   ],
   "source": [
    "# Scaled\n",
    "mod_logis = LogisticRegression(fit_intercept=False, C=1e50)\n",
    "mod_logis.fit(Xs,Y)\n",
    "beta_true_scale = mod_logis.coef_.ravel()\n",
    "beta_true_scale"
   ]
  },
  {
   "cell_type": "code",
   "execution_count": null,
   "metadata": {
    "collapsed": true
   },
   "outputs": [],
   "source": []
  },
  {
   "cell_type": "code",
   "execution_count": null,
   "metadata": {
    "collapsed": true
   },
   "outputs": [],
   "source": []
  },
  {
   "cell_type": "code",
   "execution_count": null,
   "metadata": {
    "collapsed": true
   },
   "outputs": [],
   "source": []
  },
  {
   "cell_type": "code",
   "execution_count": null,
   "metadata": {
    "collapsed": false
   },
   "outputs": [],
   "source": []
  },
  {
   "cell_type": "markdown",
   "metadata": {
    "collapsed": false
   },
   "source": [
    "### HMC"
   ]
  },
  {
   "cell_type": "code",
   "execution_count": 8,
   "metadata": {
    "collapsed": false
   },
   "outputs": [
    {
     "data": {
      "text/plain": [
       "array([-0.014874  , -0.12839574, -0.00331234,  0.02879933,  0.0088278 ,\n",
       "       -0.07460116, -0.05963682, -0.01488562])"
      ]
     },
     "execution_count": 8,
     "metadata": {},
     "output_type": "execute_result"
    }
   ],
   "source": [
    "# HMC - Scaled\n",
    "nsample = 1000\n",
    "m = 20\n",
    "eps = .001\n",
    "theta = np.zeros(p)\n",
    "#theta = beta_true_unscale.copy()\n",
    "phi = 5\n",
    "M = np.identity(p)\n",
    "\n",
    "samples, accept, rho, H = run_hmc(Y, Xs, U_logistic, gradU_logistic, M, eps, m, theta, phi, nsample)\n",
    "\n",
    "np.mean(samples, axis=0) - beta_true_scale"
   ]
  },
  {
   "cell_type": "code",
   "execution_count": 9,
   "metadata": {
    "collapsed": false
   },
   "outputs": [
    {
     "data": {
      "image/png": "[encoded data removed]",
      "text/plain": [
       "<matplotlib.figure.Figure at 0x10adfc470>"
      ]
     },
     "metadata": {},
     "output_type": "display_data"
    }
   ],
   "source": [
    "plt.plot((samples - beta_true_scale)[:,3])\n",
    "plt.show()"
   ]
  },
  {
   "cell_type": "code",
   "execution_count": 10,
   "metadata": {
    "collapsed": false
   },
   "outputs": [
    {
     "data": {
      "image/png": "[encoded data removed]",
      "text/plain": [
       "<matplotlib.figure.Figure at 0x10e286a58>"
      ]
     },
     "metadata": {},
     "output_type": "display_data"
    }
   ],
   "source": [
    "plt.plot(H)\n",
    "plt.show()"
   ]
  },
  {
   "cell_type": "markdown",
   "metadata": {},
   "source": [
    "### SGHMC"
   ]
  },
  {
   "cell_type": "code",
   "execution_count": 11,
   "metadata": {
    "collapsed": false
   },
   "outputs": [
    {
     "data": {
      "text/plain": [
       "array([-0.04495083, -0.07772457,  0.02015401, -0.02702875,  0.04350002,\n",
       "       -0.0195668 , -0.03959012,  0.01211312])"
      ]
     },
     "execution_count": 11,
     "metadata": {},
     "output_type": "execute_result"
    }
   ],
   "source": [
    "# HMC - Scaled (no intercept)\n",
    "nsample = 1000\n",
    "m = 20\n",
    "eps = .002\n",
    "theta = np.zeros(p)\n",
    "#theta = beta_true_scale.copy()\n",
    "phi = 5\n",
    "nbatch = 500\n",
    "C = 1 * np.identity(p)\n",
    "V = 0 * np.identity(p)\n",
    "M = np.identity(p)\n",
    "\n",
    "samples, H = run_sghmc(Y, Xs, U_logistic, gradU_logistic, M, eps, m, theta, C, V, phi, nsample)\n",
    "\n",
    "np.mean(samples, axis=0) - beta_true_scale"
   ]
  },
  {
   "cell_type": "code",
   "execution_count": 12,
   "metadata": {
    "collapsed": false
   },
   "outputs": [
    {
     "data": {
      "image/png": "[encoded data removed]",
      "text/plain": [
       "<matplotlib.figure.Figure at 0x10e2b1a90>"
      ]
     },
     "metadata": {},
     "output_type": "display_data"
    }
   ],
   "source": [
    "plt.plot((samples - beta_true_scale)[:,0])\n",
    "plt.show()"
   ]
  },
  {
   "cell_type": "code",
   "execution_count": 13,
   "metadata": {
    "collapsed": false
   },
   "outputs": [
    {
     "data": {
      "image/png": "[encoded data removed]",
      "text/plain": [
       "<matplotlib.figure.Figure at 0x10e52a748>"
      ]
     },
     "metadata": {},
     "output_type": "display_data"
    }
   ],
   "source": [
    "plt.plot(H)\n",
    "plt.show()"
   ]
  },
  {
   "cell_type": "markdown",
   "metadata": {},
   "source": [
    "### Gradient Descent"
   ]
  },
  {
   "cell_type": "code",
   "execution_count": 249,
   "metadata": {
    "collapsed": false
   },
   "outputs": [
    {
     "data": {
      "text/plain": [
       "array([-0.00056779, -0.001654  ,  0.00055597, -0.00011762,  0.00074642,\n",
       "       -0.00075326, -0.00043704,  0.00030849])"
      ]
     },
     "execution_count": 249,
     "metadata": {},
     "output_type": "execute_result"
    }
   ],
   "source": [
    "# Gradient descent - Scaled\n",
    "np.random.seed(2)\n",
    "phi = .1\n",
    "\n",
    "res = gd(Y, Xs, gradU, .1, 20000, np.zeros(p), phi)\n",
    "\n",
    "res - beta_true_scale"
   ]
  },
  {
   "cell_type": "code",
   "execution_count": null,
   "metadata": {
    "collapsed": false
   },
   "outputs": [],
   "source": []
  },
  {
   "cell_type": "code",
   "execution_count": null,
   "metadata": {
    "collapsed": false
   },
   "outputs": [],
   "source": []
  },
  {
   "cell_type": "code",
   "execution_count": null,
   "metadata": {
    "collapsed": true
   },
   "outputs": [],
   "source": []
  }
 ],
 "metadata": {
  "kernelspec": {
   "display_name": "Python 3",
   "language": "python",
   "name": "python3"
  },
  "language_info": {
   "codemirror_mode": {
    "name": "ipython",
    "version": 3
   },
   "file_extension": ".py",
   "mimetype": "text/x-python",
   "name": "python",
   "nbconvert_exporter": "python",
   "pygments_lexer": "ipython3",
   "version": "3.5.2"
  }
 },
 "nbformat": 4,
 "nbformat_minor": 2
}
