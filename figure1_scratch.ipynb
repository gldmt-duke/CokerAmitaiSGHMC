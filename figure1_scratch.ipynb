{
 "cells": [
  {
   "cell_type": "code",
   "execution_count": 1,
   "metadata": {
    "collapsed": true
   },
   "outputs": [],
   "source": [
    "import numpy as np\n",
    "import matplotlib.pyplot as plt"
   ]
  },
  {
   "cell_type": "code",
   "execution_count": 2,
   "metadata": {
    "collapsed": false
   },
   "outputs": [
    {
     "data": {
      "text/plain": [
       "array([ 0.63679416])"
      ]
     },
     "execution_count": 2,
     "metadata": {},
     "output_type": "execute_result"
    }
   ],
   "source": [
    "p = np.random.randn(5, 5)\n",
    "np.power(p, 2)\n",
    "np.random.randn(1)"
   ]
  },
  {
   "cell_type": "code",
   "execution_count": 3,
   "metadata": {
    "collapsed": true
   },
   "outputs": [],
   "source": [
    "def hmc(U, gradU, m, dt, nstep, x, mhtest):\n",
    "    p = np.random.randn(len(x), len(x)) * np.sqrt(m)\n",
    "    oldX = x\n",
    "    oldEnergy = np.transpose(p) * m * p / 2 + U(x)\n",
    "    for i in range(nstep):\n",
    "        p = p - gradU(x) * dt / 2\n",
    "        x = x + p/m * dt\n",
    "        p = p - gradU(x) * dt / 2\n",
    "    p=-p\n",
    "    if mhtest != 0:\n",
    "        newEnergy = np.transpose(p) * m * p / 2 + U(x)\n",
    "        if np.exp(oldEnergy - newEnergy) < np.random.uniform(size=1):\n",
    "            x = oldX\n",
    "    newx = x\n",
    "    return(newx)"
   ]
  },
  {
   "cell_type": "code",
   "execution_count": 4,
   "metadata": {
    "collapsed": true
   },
   "outputs": [],
   "source": [
    "def sghmc(U, gradU, m, dt, nstep, x, C, V):\n",
    "    p = np.random.randn(len(x), len(x)) * np.sqrt(m)\n",
    "    B = 0.5 * V * dt\n",
    "    D = np.sqrt(2 * (C-B) * dt)\n",
    "    for i in range(nstep):\n",
    "        p = p - gradU(x) * dt - p * C * dt + np.random.randn(1) * D\n",
    "        x = x + p/m * dt\n",
    "    newx = x\n",
    "    return(newx)"
   ]
  },
  {
   "cell_type": "code",
   "execution_count": 5,
   "metadata": {
    "collapsed": true
   },
   "outputs": [],
   "source": [
    "nsample = 10000\n",
    "xStep = 0.1\n",
    "m = 1\n",
    "C = 3\n",
    "dt = 0.1\n",
    "nstep = 50\n",
    "V = 4"
   ]
  },
  {
   "cell_type": "code",
   "execution_count": 6,
   "metadata": {
    "collapsed": false
   },
   "outputs": [],
   "source": [
    "U = lambda x: -2 * np.power(x, 2) + np.power(x, 4)\n",
    "gradU = lambda x: (-4 * x +  4 * np.power(x, 3)) +  np.random.randn(1) * 2;\n",
    "gradUPerfect = lambda x: -4 * x +  4 * np.power(x, 3) "
   ]
  },
  {
   "cell_type": "code",
   "execution_count": 7,
   "metadata": {
    "collapsed": false
   },
   "outputs": [
    {
     "data": {
      "text/plain": [
       "[<matplotlib.lines.Line2D at 0x117c44a20>]"
      ]
     },
     "execution_count": 7,
     "metadata": {},
     "output_type": "execute_result"
    }
   ],
   "source": [
    "xGrid = np.arange(-3, 3, 0.1)\n",
    "y_true = np.exp(-U(xGrid))\n",
    "y_true = y_true/sum(y_true)/xStep\n",
    "plt.plot(xGrid, y_true)"
   ]
  },
  {
   "cell_type": "code",
   "execution_count": 8,
   "metadata": {
    "collapsed": false,
    "scrolled": true
   },
   "outputs": [],
   "source": [
    "# wo noise, w mh\n",
    "samples = np.zeros((nsample, 1))\n",
    "x = np.zeros((1, 1))\n",
    "for i in range(nsample):\n",
    "    x = hmc(U, gradUPerfect, m, dt, nstep, x, 1)\n",
    "    samples[i] = x\n",
    "yhmc1, xhmc1 = np.histogram(samples, xGrid)\n",
    "xhmc1 = 0.5*(xhmc1[1:]+xhmc1[:-1])\n",
    "yhmc1 = yhmc1/sum(yhmc1)/xStep"
   ]
  },
  {
   "cell_type": "code",
   "execution_count": 9,
   "metadata": {
    "collapsed": false,
    "scrolled": false
   },
   "outputs": [],
   "source": [
    "# wo noise, no mh\n",
    "samples = np.zeros((nsample, 1))\n",
    "x = np.zeros((1, 1))\n",
    "for i in range(nsample):\n",
    "    x = hmc(U, gradUPerfect, m, dt, nstep, x, 0)\n",
    "    samples[i] = x\n",
    "yhmc2, xhmc2 = np.histogram(samples, xGrid)\n",
    "xhmc2 = 0.5*(xhmc2[1:]+xhmc2[:-1])\n",
    "yhmc2 = yhmc2/sum(yhmc2)/xStep"
   ]
  },
  {
   "cell_type": "code",
   "execution_count": 10,
   "metadata": {
    "collapsed": false
   },
   "outputs": [],
   "source": [
    "# w noise, w mh\n",
    "samples = np.zeros((nsample, 1))\n",
    "x = np.zeros((1, 1))\n",
    "for i in range(nsample):\n",
    "    x = hmc(U, gradU, m, dt, nstep, x, 1)\n",
    "    samples[i] = x\n",
    "yhmc3, xhmc3 = np.histogram(samples, xGrid)\n",
    "xhmc3 = 0.5*(xhmc3[1:]+xhmc3[:-1])\n",
    "yhmc3 = yhmc3/sum(yhmc3)/xStep"
   ]
  },
  {
   "cell_type": "code",
   "execution_count": 11,
   "metadata": {
    "collapsed": false
   },
   "outputs": [],
   "source": [
    "# w noise, no mh\n",
    "samples = np.zeros((nsample, 1))\n",
    "x = np.zeros((1, 1))\n",
    "for i in range(nsample):\n",
    "    x = hmc(U, gradU, m, dt, nstep, x, 0)\n",
    "    samples[i] = x\n",
    "yhmc4, xhmc4 = np.histogram(samples, xGrid)\n",
    "xhmc4 = 0.5*(xhmc4[1:]+xhmc4[:-1])\n",
    "yhmc4 = yhmc4/sum(yhmc4)/xStep"
   ]
  },
  {
   "cell_type": "code",
   "execution_count": 12,
   "metadata": {
    "collapsed": false,
    "scrolled": true
   },
   "outputs": [],
   "source": [
    "# w noise, no mh\n",
    "samples = np.zeros((nsample, 1))\n",
    "x = np.zeros((1, 1))\n",
    "for i in range(nsample):\n",
    "    x = sghmc(U, gradU, m, dt, nstep, x, C, V)\n",
    "    samples[i] = x\n",
    "yhmc5, xhmc5 = np.histogram(samples, xGrid)\n",
    "xhmc5 = 0.5*(xhmc5[1:]+xhmc5[:-1])\n",
    "yhmc5 = yhmc5/sum(yhmc5)/xStep"
   ]
  },
  {
   "cell_type": "code",
   "execution_count": 21,
   "metadata": {
    "collapsed": false
   },
   "outputs": [
    {
     "data": {
      "image/png": "[encoded data removed]",
      "text/plain": [
       "<matplotlib.figure.Figure at 0x1182e9748>"
      ]
     },
     "metadata": {},
     "output_type": "display_data"
    }
   ],
   "source": [
    "fig, ax = plt.subplots()\n",
    "ax.plot(xGrid, y_true, label = 'True Distribution')\n",
    "ax.plot(xhmc1, yhmc1, label = 'HMC w/o Noise, w/ MH')\n",
    "ax.plot(xhmc2, yhmc2, label = 'HMC w/o Noise, w/o MH')\n",
    "ax.plot(xhmc3, yhmc3, label = 'HMC w/ Noise, w/ MH')\n",
    "ax.plot(xhmc4, yhmc4, label = 'HMC w/ Noise, w/o MH')\n",
    "ax.plot(xhmc5, yhmc5, label = 'SGHMC w/ Noise, w/o MH')\n",
    "plt.legend(loc='upper left')\n",
    "\n",
    "fig.savefig('fig1.png')\n",
    "pass"
   ]
  },
  {
   "cell_type": "code",
   "execution_count": null,
   "metadata": {
    "collapsed": false
   },
   "outputs": [],
   "source": [
    "U = lambda x: 0.5 * np.power(x, 2)\n",
    "gradU = lambda x: x + np.random.randn(1) * 2;\n",
    "gradUPerfect = lambda x: x"
   ]
  },
  {
   "cell_type": "code",
   "execution_count": null,
   "metadata": {
    "collapsed": false
   },
   "outputs": [],
   "source": [
    "xGrid = np.arange(-3, 3, 0.1)\n",
    "y = np.exp(-U(xGrid))\n",
    "y = y/sum(y)/xStep\n",
    "plt.plot(xGrid, y)"
   ]
  },
  {
   "cell_type": "code",
   "execution_count": null,
   "metadata": {
    "collapsed": false
   },
   "outputs": [],
   "source": [
    "# wo noise, w mh\n",
    "samples = np.zeros((nsample, 1))\n",
    "x = np.zeros((1, 1))\n",
    "for i in range(nsample):\n",
    "    x = hmc(U, gradUPerfect, m, dt, nstep, x, 1)\n",
    "    samples[i] = x\n",
    "plt.hist(samples)\n",
    "pass"
   ]
  },
  {
   "cell_type": "code",
   "execution_count": null,
   "metadata": {
    "collapsed": false,
    "scrolled": false
   },
   "outputs": [],
   "source": [
    "# wo noise, no mh\n",
    "samples = np.zeros((nsample, 1))\n",
    "x = np.zeros((1, 1))\n",
    "for i in range(nsample):\n",
    "    x = hmc(U, gradUPerfect, m, dt, nstep, x, 10)\n",
    "    samples[i] = x\n",
    "plt.hist(samples)\n",
    "pass"
   ]
  },
  {
   "cell_type": "code",
   "execution_count": null,
   "metadata": {
    "collapsed": false
   },
   "outputs": [],
   "source": [
    "# w noise, w mh\n",
    "samples = np.zeros((nsample, 1))\n",
    "x = np.zeros((1, 1))\n",
    "for i in range(nsample):\n",
    "    x = hmc(U, gradU, m, dt, nstep, x, 1)\n",
    "    samples[i] = x\n",
    "plt.hist(samples)\n",
    "pass"
   ]
  },
  {
   "cell_type": "code",
   "execution_count": null,
   "metadata": {
    "collapsed": false
   },
   "outputs": [],
   "source": [
    "# w noise, no mh\n",
    "samples = np.zeros((nsample, 1))\n",
    "x = np.zeros((1, 1))\n",
    "for i in range(nsample):\n",
    "    x = hmc(U, gradU, m, dt, nstep, x, 0)\n",
    "    samples[i] = x\n",
    "plt.hist(samples)\n",
    "pass"
   ]
  },
  {
   "cell_type": "code",
   "execution_count": null,
   "metadata": {
    "collapsed": false,
    "scrolled": true
   },
   "outputs": [],
   "source": [
    "# w noise, no mh\n",
    "samples = np.zeros((nsample, 1))\n",
    "x = np.zeros((1, 1))\n",
    "for i in range(nsample):\n",
    "    x = sghmc(U, gradU, m, dt, nstep, x, C, V)\n",
    "    samples[i] = x\n",
    "plt.hist(samples)\n",
    "pass"
   ]
  }
 ],
 "metadata": {
  "kernelspec": {
   "display_name": "Python 3",
   "language": "python",
   "name": "python3"
  },
  "language_info": {
   "codemirror_mode": {
    "name": "ipython",
    "version": 3
   },
   "file_extension": ".py",
   "mimetype": "text/x-python",
   "name": "python",
   "nbconvert_exporter": "python",
   "pygments_lexer": "ipython3",
   "version": "3.6.0"
  }
 },
 "nbformat": 4,
 "nbformat_minor": 2
}
