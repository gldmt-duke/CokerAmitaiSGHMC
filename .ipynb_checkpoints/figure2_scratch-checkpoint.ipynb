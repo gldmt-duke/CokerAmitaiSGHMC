{
 "cells": [
  {
   "cell_type": "code",
   "execution_count": 10,
   "metadata": {
    "collapsed": false
   },
   "outputs": [],
   "source": [
    "import numpy as np\n",
    "import matplotlib.pyplot as plt"
   ]
  },
  {
   "cell_type": "code",
   "execution_count": 11,
   "metadata": {
    "collapsed": false
   },
   "outputs": [],
   "source": [
    "# Hamiltonian dynaimcs with noised gradient\n",
    "m = 1\n",
    "C = 3\n",
    "dt = 0.1\n",
    "nstep = 300\n",
    "niter  = 50\n",
    "# noise in the gradient\n",
    "sigma = 0.5\n",
    "\n",
    "gradUPerfect = lambda x: x\n",
    "gradU = lambda x: x + np.random.randn(1) * sigma\n",
    "\n",
    "xstart = np.ones((1, 1))\n",
    "pstart = np.zeros((1, 1))\n",
    "\n",
    "x = xstart\n",
    "p = pstart\n",
    "xs = np.zeros((nstep, 1))\n",
    "ys = np.zeros((nstep, 1))\n",
    "for i in range(nstep):\n",
    "    for j in range(niter):\n",
    "        p = p - gradU(x) * dt/2\n",
    "        x = x + p/m * dt\n",
    "        p = p - gradU(x) * dt/2\n",
    "    xs[i] = x\n",
    "    ys[i] = p\n",
    "    \n",
    "xs1, ys1 = xs, ys"
   ]
  },
  {
   "cell_type": "code",
   "execution_count": 12,
   "metadata": {
    "collapsed": false
   },
   "outputs": [],
   "source": [
    "# Hamiltonian dynaimcs with noised gradient\n",
    "x = xstart\n",
    "p = pstart\n",
    "xs = np.zeros((nstep, 1))\n",
    "ys = np.zeros((nstep, 1))\n",
    "for i in range(nstep):\n",
    "    p = np.random.randn(len(x)) * np.sqrt(m)\n",
    "    for j in range(niter):\n",
    "        p = p - gradU(x) * dt/2\n",
    "        x = x + p/m * dt\n",
    "        p = p - gradU(x) * dt/2\n",
    "    xs[i] = x\n",
    "    ys[i] = p\n",
    "    \n",
    "xs2, ys2 = xs, ys"
   ]
  },
  {
   "cell_type": "code",
   "execution_count": 13,
   "metadata": {
    "collapsed": false
   },
   "outputs": [],
   "source": [
    "# Second order Langevin dynamics with noised gradient\n",
    "x = xstart\n",
    "p = pstart\n",
    "xs = np.zeros((nstep, 1))\n",
    "ys = np.zeros((nstep, 1))\n",
    "Bhat = 0.5 * np.power(sigma, 2) * dt\n",
    "D = np.sqrt(2 * (C - Bhat) * dt)\n",
    "for i in range(nstep):\n",
    "    for j in range(niter):\n",
    "        p = p - gradU(x) * dt - p * C * dt + np.random.randn(1) * D\n",
    "        x = x + p/m * dt\n",
    "    xs[i] = x\n",
    "    ys[i] = p\n",
    "    \n",
    "xs3, ys3 = xs, ys"
   ]
  },
  {
   "cell_type": "code",
   "execution_count": 14,
   "metadata": {
    "collapsed": false,
    "scrolled": true
   },
   "outputs": [],
   "source": [
    "x = xstart\n",
    "p = pstart\n",
    "xs = np.zeros((nstep, 1))\n",
    "ys = np.zeros((nstep, 1))\n",
    "for i in range(nstep):\n",
    "    for j in range(nstep):\n",
    "        p = p - gradUPerfect(x) * dt / 2\n",
    "        x = x + p/m * dt\n",
    "        p = p -gradUPerfect(x) * dt / 2\n",
    "    xs[i] = x\n",
    "    ys[i] = p\n",
    "    \n",
    "xs4, ys4 = xs, ys"
   ]
  },
  {
   "cell_type": "code",
   "execution_count": 16,
   "metadata": {
    "collapsed": false
   },
   "outputs": [],
   "source": [
    "fig, ax = plt.subplots(figsize=(10,8))\n",
    "ax.scatter(xs1, ys1,c=list(reversed(range(0,nstep))),s=25,\n",
    "           cmap='Reds',marker='v',\n",
    "           label='Noisy Hamiltonian')\n",
    "ax.scatter(xs2, ys2,c=list(reversed(range(0,nstep))),s=25,\n",
    "           cmap='Greys',marker='x',\n",
    "           label='Noisy Hamiltonian with resampling')\n",
    "ax.scatter(xs2, ys3,c=list(reversed(range(0,nstep))),s=25,\n",
    "           cmap='Greens',marker='s',\n",
    "           label='Noisy Hamiltonian with friction')\n",
    "ax.scatter(xs4, ys4,c=list(reversed(range(0,nstep))),s=25,\n",
    "           cmap='Blues',marker='o',\n",
    "           label='Hamiltonian')\n",
    "\n",
    "ax.set_title(\"Posterior Samples \\n (lighter shades for later iterations)\")\n",
    "ax.set_ylabel(\"r\")\n",
    "ax.set_xlabel(\"theta\")\n",
    "\n",
    "leg = ax.legend(loc='upper right')\n",
    "leg.legendHandles[0].set_color('red')\n",
    "leg.legendHandles[1].set_color('grey')\n",
    "leg.legendHandles[2].set_color('green')\n",
    "leg.legendHandles[3].set_color('blue')\n",
    "\n",
    "fig.savefig('fig2.pdf')"
   ]
  },
  {
   "cell_type": "code",
   "execution_count": null,
   "metadata": {
    "collapsed": true
   },
   "outputs": [],
   "source": []
  }
 ],
 "metadata": {
  "anaconda-cloud": {},
  "kernelspec": {
   "display_name": "Python [default]",
   "language": "python",
   "name": "python3"
  },
  "language_info": {
   "codemirror_mode": {
    "name": "ipython",
    "version": 3
   },
   "file_extension": ".py",
   "mimetype": "text/x-python",
   "name": "python",
   "nbconvert_exporter": "python",
   "pygments_lexer": "ipython3",
   "version": "3.5.2"
  }
 },
 "nbformat": 4,
 "nbformat_minor": 2
}
